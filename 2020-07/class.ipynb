{
 "cells": [
  {
   "cell_type": "code",
   "execution_count": 18,
   "metadata": {},
   "outputs": [
    {
     "output_type": "stream",
     "name": "stdout",
     "text": "5\n30\n30\n10\n120\nThis is Private Method!\nNone\nThis is Private Class Method!\nNone\n"
    }
   ],
   "source": [
    "class Widget(object):\n",
    "\n",
    "    # コンストラクタ\n",
    "    def __init__(self, r, l):\n",
    "\n",
    "        # 通常メンバ変数\n",
    "        self.rval = r\n",
    "        self.lval = l\n",
    "\n",
    "        # プライベート変数\n",
    "        self.__secret = 5\n",
    "\n",
    "    # publicクラスメンバ変数\n",
    "    classVal = 30\n",
    "\n",
    "    # プライベートクラス変数\n",
    "    # 外からは特別な記述でないとアクセスできない\n",
    "    __SecretClassVal = 10\n",
    "\n",
    "    # 通常メソッド\n",
    "    def Calc(self):\n",
    "        # ここでもメンバ変数を定義できる。\n",
    "        self.top = 10\n",
    "        return self.rval * self.lval * self.top\n",
    "\n",
    "    # プライベートメソッド\n",
    "    def __MyCalc(self):\n",
    "        print (\"This is Private Method!\")\n",
    "\n",
    "    # クラスメソッド.\n",
    "    @classmethod\n",
    "    def SelfName(cls):\n",
    "        # ここでもクラスメンバ変数の定義ができる。\n",
    "        cls.number = 1\n",
    "\n",
    "    # プライベートクラスメソッド.\n",
    "    @classmethod\n",
    "    def __PrivateSelfName(cls):\n",
    "        print (\"This is Private Class Method!\")\n",
    "\n",
    "if __name__ == '__main__':\n",
    "\n",
    "    # コンストラクタと通常メソッドの呼び出し。\n",
    "    w = Widget(2, 4)\n",
    "\n",
    "    # メンバ変数へのアクセス\n",
    "    w.lval = 3\n",
    "    w.rval = 4\n",
    "\n",
    "    # プライベートメンバ変数にアクセス。\n",
    "    # インスタンス._クラス名__変数名でアクセスできる。(推奨されない)\n",
    "    print (w._Widget__secret)\n",
    "\n",
    "    # パプリッククラス変数へアクセス。\n",
    "    # インスタンス名でもクラス名でもどちらでもアクセス可能。\n",
    "    print (Widget.classVal)\n",
    "    print (w.classVal)\n",
    "\n",
    "    # プライベートクラス変数にアクセス。\n",
    "    # インスタンス._クラス名__変数名でアクセスできる。(推奨されない)\n",
    "    print (w._Widget__SecretClassVal)\n",
    "\n",
    "    # 通常のメソッドの呼び出し.\n",
    "    print (w.Calc())\n",
    "\n",
    "    # プライベートメソッドの呼び出し(推奨されない)\n",
    "    print (w._Widget__MyCalc())\n",
    "\n",
    "    # クラスメソッドの呼び出し.\n",
    "    Widget.SelfName()\n",
    "\n",
    "    # プライベートクラスメソッドの呼び出し(推奨されない)\n",
    "    print(w._Widget__PrivateSelfName())"
   ]
  },
  {
   "cell_type": "code",
   "execution_count": null,
   "metadata": {},
   "outputs": [],
   "source": [
    "class Student:\n",
    "    \n",
    "    def __init__(self, name, s_id):\n",
    "        self.name = name\n",
    "        self.s_id = s_id\n",
    "        self.school_credit = {'英語-1':'秀', '実験-1':'優'}\n",
    "   \n",
    "    def got_it(self, credit):\n",
    "        self.school_credit = credit\n",
    "        \n",
    "    def what_your_name(self):\n",
    "        print(\"私は\" + self.name + \"と言います\")\n",
    "        \n",
    "    def what_your_id(self):\n",
    "        print(\"私の学籍番号は\" + str(self.s_id) + \"です\")\n",
    "        \n",
    "    def how_many_credit(self):\n",
    "        print(\"私の取得単位数は\"+ str(len(self.school_credit)) + \"です\")\n",
    "        \n",
    "    def what_ave_GPA(self):\n",
    "        print(\"私のGPAは\" + str(self.calc_GPA()) + \"です。\")\n",
    "        \n",
    "    def calc_GPA(self):\n",
    "        gpa = 0\n",
    "        for sc in self.school_credit:\n",
    "            if self.school_credit[sc] == '秀':\n",
    "                gpa +=  4\n",
    "            elif self.school_credit[sc] == '優':\n",
    "                gpa +=  3\n",
    "            elif self.school_credit[sc] == '良':\n",
    "                gpa +=  2\n",
    "            elif self.school_credit[sc] == '可':\n",
    "                gpa +=  1\n",
    "            else:\n",
    "                gpa += 0\n",
    "        \n",
    "        gpa /= len(self.school_credit)\n",
    "        \n",
    "        return gpa"
   ]
  },
  {
   "cell_type": "code",
   "execution_count": 2,
   "metadata": {
    "tags": []
   },
   "outputs": [
    {
     "output_type": "stream",
     "name": "stdout",
     "text": "山田太郎と言います\n学籍番号は20E999です\n"
    }
   ],
   "source": [
    "class Student:\n",
    "\n",
    "    def __init__(self, name, s_id):\n",
    "        self.name = name\n",
    "        self.s_id = s_id\n",
    "        \n",
    "    def reply_name(self):\n",
    "        print(self.name + \"と言います\")\n",
    "        \n",
    "    def reply_id(self):\n",
    "        print(\"学籍番号は\" + str(self.s_id) + \"です\")\n",
    "\n",
    "if __name__ == '__main__':\n",
    "    st = Student('山田太郎', '20E999')\n",
    "    st.reply_name()\n",
    "    st.reply_id()"
   ]
  },
  {
   "cell_type": "code",
   "execution_count": 16,
   "metadata": {
    "tags": []
   },
   "outputs": [
    {
     "output_type": "stream",
     "name": "stdout",
     "text": "山田太郎と言います\n学籍番号は20E999です\nGPAは2.5です。\n"
    }
   ],
   "source": [
    "class Student:\n",
    "\n",
    "    def __init__(self, name, s_id):\n",
    "        self.name = name\n",
    "        self.s_id = s_id\n",
    "        # 成績は順番に「秀、優、良、可、不可」\n",
    "        self.school_credit = {}\n",
    "\n",
    "    def reply_name(self):\n",
    "        print(self.name + \"と言います\")\n",
    "        \n",
    "    def reply_id(self):\n",
    "        print(\"学籍番号は\" + str(self.s_id) + \"です\")\n",
    "\n",
    "    def reply_gpa(self):\n",
    "        print(\"GPAは\" + str(self.__calc_GPA()) + \"です\")\n",
    "\n",
    "    def input_credit(self, credit_dict):\n",
    "        self.school_credit = credit_dict\n",
    "\n",
    "    def __calc_GPA(self):\n",
    "        gpa = 0\n",
    "        gpa_list = ['不可', '可', '良', '優', '秀']\n",
    "\n",
    "        # 取得した単位はすべて1とする\n",
    "        for sc in self.school_credit.values():\n",
    "            if sc in gpa_list:\n",
    "                gpa += gpa_list.index(sc)\n",
    "               \n",
    "        gpa /= len(self.school_credit)\n",
    "        \n",
    "        return gpa\n",
    "\n",
    "if __name__ == '__main__':\n",
    "    st = Student('山田太郎', '20E999')\n",
    "    st.reply_name()\n",
    "    st.reply_id()\n",
    "    st.input_credit({'英語':'可', '実験':'優', 'プログラミング':'秀', 'DB':'良'})\n",
    "    st.reply_gpa()"
   ]
  },
  {
   "cell_type": "code",
   "execution_count": 17,
   "metadata": {
    "tags": []
   },
   "outputs": [
    {
     "output_type": "stream",
     "name": "stdout",
     "text": "山田太郎と言います\n学籍番号は20E999です\n"
    },
    {
     "output_type": "error",
     "ename": "AttributeError",
     "evalue": "'Student' object has no attribute '__calc_GPA'",
     "traceback": [
      "\u001b[1;31m---------------------------------------------------------------------------\u001b[0m",
      "\u001b[1;31mAttributeError\u001b[0m                            Traceback (most recent call last)",
      "\u001b[1;32m<ipython-input-17-03f7e0109332>\u001b[0m in \u001b[0;36m<module>\u001b[1;34m\u001b[0m\n\u001b[0;32m      4\u001b[0m     \u001b[0mst\u001b[0m\u001b[1;33m.\u001b[0m\u001b[0mreply_id\u001b[0m\u001b[1;33m(\u001b[0m\u001b[1;33m)\u001b[0m\u001b[1;33m\u001b[0m\u001b[1;33m\u001b[0m\u001b[0m\n\u001b[0;32m      5\u001b[0m     \u001b[0mst\u001b[0m\u001b[1;33m.\u001b[0m\u001b[0minput_credit\u001b[0m\u001b[1;33m(\u001b[0m\u001b[1;33m{\u001b[0m\u001b[1;34m'英語'\u001b[0m\u001b[1;33m:\u001b[0m\u001b[1;34m'可'\u001b[0m\u001b[1;33m,\u001b[0m \u001b[1;34m'実験'\u001b[0m\u001b[1;33m:\u001b[0m\u001b[1;34m'優'\u001b[0m\u001b[1;33m,\u001b[0m \u001b[1;34m'プログラミング'\u001b[0m\u001b[1;33m:\u001b[0m\u001b[1;34m'秀'\u001b[0m\u001b[1;33m,\u001b[0m \u001b[1;34m'DB'\u001b[0m\u001b[1;33m:\u001b[0m\u001b[1;34m'良'\u001b[0m\u001b[1;33m}\u001b[0m\u001b[1;33m)\u001b[0m\u001b[1;33m\u001b[0m\u001b[1;33m\u001b[0m\u001b[0m\n\u001b[1;32m----> 6\u001b[1;33m     \u001b[0mprint\u001b[0m\u001b[1;33m(\u001b[0m\u001b[0mst\u001b[0m\u001b[1;33m.\u001b[0m\u001b[0m__calc_GPA\u001b[0m\u001b[1;33m(\u001b[0m\u001b[1;33m)\u001b[0m\u001b[1;33m)\u001b[0m\u001b[1;33m\u001b[0m\u001b[1;33m\u001b[0m\u001b[0m\n\u001b[0m",
      "\u001b[1;31mAttributeError\u001b[0m: 'Student' object has no attribute '__calc_GPA'"
     ]
    }
   ],
   "source": [
    "if __name__ == '__main__':\n",
    "    st = Student('山田太郎', '20E999')\n",
    "    st.reply_name()\n",
    "    st.reply_id()\n",
    "    st.input_credit({'英語':'可', '実験':'優', 'プログラミング':'秀', 'DB':'良'})\n",
    "    print(st.__calc_GPA())"
   ]
  },
  {
   "cell_type": "code",
   "execution_count": 18,
   "metadata": {
    "tags": []
   },
   "outputs": [
    {
     "output_type": "stream",
     "name": "stdout",
     "text": "山田太郎と言います\n学籍番号は20E999です\n2.5\n"
    }
   ],
   "source": [
    "if __name__ == '__main__':\n",
    "    st = Student('山田太郎', '20E999')\n",
    "    st.reply_name()\n",
    "    st.reply_id()\n",
    "    st.input_credit({'英語':'可', '実験':'優', 'プログラミング':'秀', 'DB':'良'})\n",
    "    print(st._Student__calc_GPA())"
   ]
  },
  {
   "cell_type": "code",
   "execution_count": 19,
   "metadata": {
    "tags": []
   },
   "outputs": [
    {
     "output_type": "stream",
     "name": "stdout",
     "text": "こんにちは\nこんにちは\n"
    }
   ],
   "source": [
    "class Student:\n",
    "\n",
    "    def __init__(self, name, s_id):\n",
    "        self.name = name\n",
    "        self.s_id = s_id\n",
    "        # 成績は順番に「秀、優、良、可、不可」\n",
    "        self.school_credit = {}\n",
    "\n",
    "    def reply_name(self):\n",
    "        print(self.name + \"と言います\")\n",
    "        \n",
    "    def reply_id(self):\n",
    "        print(\"学籍番号は\" + str(self.s_id) + \"です\")\n",
    "\n",
    "    def reply_gpa(self):\n",
    "        print(\"GPAは\" + str(self.__calc_GPA()) + \"です\")\n",
    "\n",
    "    def input_credit(self, credit_dict):\n",
    "        self.school_credit = credit_dict\n",
    "\n",
    "    @classmethod\n",
    "    def reply_greeting(cls):\n",
    "        print('こんにちは')\n",
    "\n",
    "    def __calc_GPA(self):\n",
    "        gpa = 0\n",
    "        gpa_list = ['不可', '可', '良', '優', '秀']\n",
    "\n",
    "        # 取得した単位はすべて1とする\n",
    "        for sc in self.school_credit.values():\n",
    "            if sc in gpa_list:\n",
    "                gpa += gpa_list.index(sc)\n",
    "               \n",
    "        gpa /= len(self.school_credit)\n",
    "        \n",
    "        return gpa\n",
    "\n",
    "if __name__ == '__main__':\n",
    "    st = Student('山田太郎', '20E999')\n",
    "    st.reply_greeting()\n",
    "    Student.reply_greeting()"
   ]
  },
  {
   "cell_type": "code",
   "execution_count": 23,
   "metadata": {
    "tags": []
   },
   "outputs": [
    {
     "output_type": "stream",
     "name": "stdout",
     "text": "山田太郎と言います\n佐藤花子と言います\n"
    }
   ],
   "source": [
    "class Student:\n",
    "\n",
    "    def __init__(self, name, s_id):\n",
    "        self.name = name\n",
    "        self.s_id = s_id\n",
    "\n",
    "    def reply_name(self):\n",
    "        print(self.name + \"と言います\")\n",
    "\n",
    "    @classmethod\n",
    "    def reply_greeting(cls):\n",
    "        print('こんにちは')\n",
    "\n",
    "if __name__ == '__main__':\n",
    "    st1 = Student('山田太郎', '20E999')\n",
    "    st2 = Student('佐藤花子', '20E888')\n",
    "    st1.reply_name()\n",
    "    st2.reply_name()"
   ]
  },
  {
   "cell_type": "code",
   "execution_count": 53,
   "metadata": {
    "tags": []
   },
   "outputs": [
    {
     "output_type": "stream",
     "name": "stdout",
     "text": "山田太郎と言います\n"
    }
   ],
   "source": [
    "import pandas as pd\n",
    "\n",
    "class Student:\n",
    "\n",
    "    def __init__(self, name, s_id):\n",
    "        self.name = name\n",
    "        self.s_id = s_id\n",
    "\n",
    "    def reply_name(self):\n",
    "        print(self.name + \"と言います\")\n",
    "\n",
    "    @classmethod\n",
    "    def get_student(cls):\n",
    "        info_df = pd.read_json('student.json', encoding='UTF-8')\n",
    "        return cls(info_df['name'].values[0], info_df['id'].values[0])\n",
    "\n",
    "if __name__ == '__main__':\n",
    "    st = Student.get_student()\n",
    "    st.reply_name()"
   ]
  },
  {
   "cell_type": "code",
   "execution_count": 54,
   "metadata": {
    "tags": []
   },
   "outputs": [
    {
     "output_type": "stream",
     "name": "stdout",
     "text": "山田太郎と言います\n"
    }
   ],
   "source": [
    "import pandas as pd\n",
    "\n",
    "class Student:\n",
    "\n",
    "    def __init__(self, name, s_id):\n",
    "        self.name = name\n",
    "        self.s_id = s_id\n",
    "\n",
    "    def reply_name(self):\n",
    "        print(self.name + \"と言います\")\n",
    "\n",
    "def get_student():\n",
    "    info_df = pd.read_json('student.json', encoding='UTF-8')\n",
    "    return Student(info_df['name'].values[0], info_df['id'].values[0])\n",
    "\n",
    "if __name__ == '__main__':\n",
    "    st = get_student()\n",
    "    st.reply_name()"
   ]
  },
  {
   "cell_type": "code",
   "execution_count": 55,
   "metadata": {
    "tags": []
   },
   "outputs": [
    {
     "output_type": "stream",
     "name": "stdout",
     "text": "山田太郎と言います\n山田太郎\n"
    }
   ],
   "source": [
    "import pandas as pd\n",
    "\n",
    "class Student:\n",
    "\n",
    "    def __init__(self, name, s_id):\n",
    "        self.name = name\n",
    "        self.s_id = s_id\n",
    "\n",
    "    def reply_name(self):\n",
    "        print(self.name + \"と言います\")\n",
    "\n",
    "if __name__ == '__main__':\n",
    "    info_df = pd.read_json('student.json', encoding='UTF-8')\n",
    "    st = Student(info_df['name'].values[0], info_df['id'].values[0])\n",
    "    st.reply_name()"
   ]
  },
  {
   "cell_type": "code",
   "execution_count": 56,
   "metadata": {
    "tags": []
   },
   "outputs": [
    {
     "output_type": "stream",
     "name": "stdout",
     "text": "こんにちは\n山田太郎と言います\n"
    }
   ],
   "source": [
    "class Student:\n",
    "\n",
    "    def __init__(self, name, s_id):\n",
    "        self.name = name\n",
    "        self.s_id = s_id\n",
    "\n",
    "    def reply_name(self):\n",
    "        print(self.name + \"と言います\")\n",
    "\n",
    "    @staticmethod\n",
    "    def reply_greeting():\n",
    "        print('こんにちは')\n",
    "\n",
    "if __name__ == '__main__':\n",
    "    Student.reply_greeting()\n",
    "    st = Student('山田太郎', '20E999')\n",
    "    st.reply_name()"
   ]
  }
 ],
 "metadata": {
  "language_info": {
   "codemirror_mode": {
    "name": "ipython",
    "version": 3
   },
   "file_extension": ".py",
   "mimetype": "text/x-python",
   "name": "python",
   "nbconvert_exporter": "python",
   "pygments_lexer": "ipython3",
   "version": "3.7.3-final"
  },
  "orig_nbformat": 2,
  "kernelspec": {
   "name": "python_defaultSpec_1596644218515",
   "display_name": "Python 3.7.4 64-bit ('base': conda)"
  }
 },
 "nbformat": 4,
 "nbformat_minor": 2
}