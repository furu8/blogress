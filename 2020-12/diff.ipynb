{
 "metadata": {
  "language_info": {
   "codemirror_mode": {
    "name": "ipython",
    "version": 3
   },
   "file_extension": ".py",
   "mimetype": "text/x-python",
   "name": "python",
   "nbconvert_exporter": "python",
   "pygments_lexer": "ipython3",
   "version": "3.7.4-final"
  },
  "orig_nbformat": 2,
  "kernelspec": {
   "name": "python3",
   "display_name": "Python 3",
   "language": "python"
  }
 },
 "nbformat": 4,
 "nbformat_minor": 2,
 "cells": [
  {
   "source": [
    "# データ準備"
   ],
   "cell_type": "markdown",
   "metadata": {}
  },
  {
   "cell_type": "code",
   "execution_count": 1,
   "metadata": {},
   "outputs": [],
   "source": [
    "import pandas as pd"
   ]
  },
  {
   "cell_type": "code",
   "execution_count": 2,
   "metadata": {},
   "outputs": [
    {
     "output_type": "execute_result",
     "data": {
      "text/plain": [
       "  user  price size   drink\n",
       "0  Aさん    100    S    cola\n",
       "1  Bさん    150    M     tea\n",
       "2  Cさん    200    L  coffee\n",
       "3  Dさん    100    S     tea\n",
       "4  Eさん    200    L  coffee\n",
       "5  Fさん    200    L     tea\n",
       "6  Gさん    150    M     tea\n",
       "7  Hさん    200    L  coffee\n",
       "8  Iさん    100    S    cola\n",
       "9  Jさん    200    L     tea"
      ],
      "text/html": "<div>\n<style scoped>\n    .dataframe tbody tr th:only-of-type {\n        vertical-align: middle;\n    }\n\n    .dataframe tbody tr th {\n        vertical-align: top;\n    }\n\n    .dataframe thead th {\n        text-align: right;\n    }\n</style>\n<table border=\"1\" class=\"dataframe\">\n  <thead>\n    <tr style=\"text-align: right;\">\n      <th></th>\n      <th>user</th>\n      <th>price</th>\n      <th>size</th>\n      <th>drink</th>\n    </tr>\n  </thead>\n  <tbody>\n    <tr>\n      <th>0</th>\n      <td>Aさん</td>\n      <td>100</td>\n      <td>S</td>\n      <td>cola</td>\n    </tr>\n    <tr>\n      <th>1</th>\n      <td>Bさん</td>\n      <td>150</td>\n      <td>M</td>\n      <td>tea</td>\n    </tr>\n    <tr>\n      <th>2</th>\n      <td>Cさん</td>\n      <td>200</td>\n      <td>L</td>\n      <td>coffee</td>\n    </tr>\n    <tr>\n      <th>3</th>\n      <td>Dさん</td>\n      <td>100</td>\n      <td>S</td>\n      <td>tea</td>\n    </tr>\n    <tr>\n      <th>4</th>\n      <td>Eさん</td>\n      <td>200</td>\n      <td>L</td>\n      <td>coffee</td>\n    </tr>\n    <tr>\n      <th>5</th>\n      <td>Fさん</td>\n      <td>200</td>\n      <td>L</td>\n      <td>tea</td>\n    </tr>\n    <tr>\n      <th>6</th>\n      <td>Gさん</td>\n      <td>150</td>\n      <td>M</td>\n      <td>tea</td>\n    </tr>\n    <tr>\n      <th>7</th>\n      <td>Hさん</td>\n      <td>200</td>\n      <td>L</td>\n      <td>coffee</td>\n    </tr>\n    <tr>\n      <th>8</th>\n      <td>Iさん</td>\n      <td>100</td>\n      <td>S</td>\n      <td>cola</td>\n    </tr>\n    <tr>\n      <th>9</th>\n      <td>Jさん</td>\n      <td>200</td>\n      <td>L</td>\n      <td>tea</td>\n    </tr>\n  </tbody>\n</table>\n</div>"
     },
     "metadata": {},
     "execution_count": 2
    }
   ],
   "source": [
    "df = pd.DataFrame([\n",
    "        ['Aさん', 100, 'S', 'cola'],\n",
    "        ['Bさん', 150, 'M', 'tea'],\n",
    "        ['Cさん', 200, 'L', 'coffee'],\n",
    "        ['Dさん', 100, 'S', 'tea'],\n",
    "        ['Eさん', 200, 'L', 'coffee'],\n",
    "        ['Fさん', 200, 'L', 'tea'],\n",
    "        ['Gさん', 150, 'M', 'tea'],\n",
    "        ['Hさん', 200, 'L', 'coffee'],\n",
    "        ['Iさん', 100, 'S', 'cola'],\n",
    "        ['Jさん', 200, 'L', 'tea']],\n",
    "        columns=['user', 'price', 'size', 'drink'])\n",
    "df"
   ]
  },
  {
   "source": [
    "# 名義尺度\n",
    "## get_dummies"
   ],
   "cell_type": "markdown",
   "metadata": {}
  },
  {
   "cell_type": "code",
   "execution_count": 3,
   "metadata": {},
   "outputs": [
    {
     "output_type": "execute_result",
     "data": {
      "text/plain": [
       "   coffee  cola  tea\n",
       "0       0     1    0\n",
       "1       0     0    1\n",
       "2       1     0    0\n",
       "3       0     0    1\n",
       "4       1     0    0\n",
       "5       0     0    1\n",
       "6       0     0    1\n",
       "7       1     0    0\n",
       "8       0     1    0\n",
       "9       0     0    1"
      ],
      "text/html": "<div>\n<style scoped>\n    .dataframe tbody tr th:only-of-type {\n        vertical-align: middle;\n    }\n\n    .dataframe tbody tr th {\n        vertical-align: top;\n    }\n\n    .dataframe thead th {\n        text-align: right;\n    }\n</style>\n<table border=\"1\" class=\"dataframe\">\n  <thead>\n    <tr style=\"text-align: right;\">\n      <th></th>\n      <th>coffee</th>\n      <th>cola</th>\n      <th>tea</th>\n    </tr>\n  </thead>\n  <tbody>\n    <tr>\n      <th>0</th>\n      <td>0</td>\n      <td>1</td>\n      <td>0</td>\n    </tr>\n    <tr>\n      <th>1</th>\n      <td>0</td>\n      <td>0</td>\n      <td>1</td>\n    </tr>\n    <tr>\n      <th>2</th>\n      <td>1</td>\n      <td>0</td>\n      <td>0</td>\n    </tr>\n    <tr>\n      <th>3</th>\n      <td>0</td>\n      <td>0</td>\n      <td>1</td>\n    </tr>\n    <tr>\n      <th>4</th>\n      <td>1</td>\n      <td>0</td>\n      <td>0</td>\n    </tr>\n    <tr>\n      <th>5</th>\n      <td>0</td>\n      <td>0</td>\n      <td>1</td>\n    </tr>\n    <tr>\n      <th>6</th>\n      <td>0</td>\n      <td>0</td>\n      <td>1</td>\n    </tr>\n    <tr>\n      <th>7</th>\n      <td>1</td>\n      <td>0</td>\n      <td>0</td>\n    </tr>\n    <tr>\n      <th>8</th>\n      <td>0</td>\n      <td>1</td>\n      <td>0</td>\n    </tr>\n    <tr>\n      <th>9</th>\n      <td>0</td>\n      <td>0</td>\n      <td>1</td>\n    </tr>\n  </tbody>\n</table>\n</div>"
     },
     "metadata": {},
     "execution_count": 3
    }
   ],
   "source": [
    "df_gd = pd.get_dummies(df['drink'])\n",
    "df_gd"
   ]
  },
  {
   "cell_type": "code",
   "execution_count": 4,
   "metadata": {},
   "outputs": [
    {
     "output_type": "execute_result",
     "data": {
      "text/plain": [
       "  user  price size   drink  coffee  cola  tea\n",
       "0  Aさん    100    S    cola       0     1    0\n",
       "1  Bさん    150    M     tea       0     0    1\n",
       "2  Cさん    200    L  coffee       1     0    0\n",
       "3  Dさん    100    S     tea       0     0    1\n",
       "4  Eさん    200    L  coffee       1     0    0\n",
       "5  Fさん    200    L     tea       0     0    1\n",
       "6  Gさん    150    M     tea       0     0    1\n",
       "7  Hさん    200    L  coffee       1     0    0\n",
       "8  Iさん    100    S    cola       0     1    0\n",
       "9  Jさん    200    L     tea       0     0    1"
      ],
      "text/html": "<div>\n<style scoped>\n    .dataframe tbody tr th:only-of-type {\n        vertical-align: middle;\n    }\n\n    .dataframe tbody tr th {\n        vertical-align: top;\n    }\n\n    .dataframe thead th {\n        text-align: right;\n    }\n</style>\n<table border=\"1\" class=\"dataframe\">\n  <thead>\n    <tr style=\"text-align: right;\">\n      <th></th>\n      <th>user</th>\n      <th>price</th>\n      <th>size</th>\n      <th>drink</th>\n      <th>coffee</th>\n      <th>cola</th>\n      <th>tea</th>\n    </tr>\n  </thead>\n  <tbody>\n    <tr>\n      <th>0</th>\n      <td>Aさん</td>\n      <td>100</td>\n      <td>S</td>\n      <td>cola</td>\n      <td>0</td>\n      <td>1</td>\n      <td>0</td>\n    </tr>\n    <tr>\n      <th>1</th>\n      <td>Bさん</td>\n      <td>150</td>\n      <td>M</td>\n      <td>tea</td>\n      <td>0</td>\n      <td>0</td>\n      <td>1</td>\n    </tr>\n    <tr>\n      <th>2</th>\n      <td>Cさん</td>\n      <td>200</td>\n      <td>L</td>\n      <td>coffee</td>\n      <td>1</td>\n      <td>0</td>\n      <td>0</td>\n    </tr>\n    <tr>\n      <th>3</th>\n      <td>Dさん</td>\n      <td>100</td>\n      <td>S</td>\n      <td>tea</td>\n      <td>0</td>\n      <td>0</td>\n      <td>1</td>\n    </tr>\n    <tr>\n      <th>4</th>\n      <td>Eさん</td>\n      <td>200</td>\n      <td>L</td>\n      <td>coffee</td>\n      <td>1</td>\n      <td>0</td>\n      <td>0</td>\n    </tr>\n    <tr>\n      <th>5</th>\n      <td>Fさん</td>\n      <td>200</td>\n      <td>L</td>\n      <td>tea</td>\n      <td>0</td>\n      <td>0</td>\n      <td>1</td>\n    </tr>\n    <tr>\n      <th>6</th>\n      <td>Gさん</td>\n      <td>150</td>\n      <td>M</td>\n      <td>tea</td>\n      <td>0</td>\n      <td>0</td>\n      <td>1</td>\n    </tr>\n    <tr>\n      <th>7</th>\n      <td>Hさん</td>\n      <td>200</td>\n      <td>L</td>\n      <td>coffee</td>\n      <td>1</td>\n      <td>0</td>\n      <td>0</td>\n    </tr>\n    <tr>\n      <th>8</th>\n      <td>Iさん</td>\n      <td>100</td>\n      <td>S</td>\n      <td>cola</td>\n      <td>0</td>\n      <td>1</td>\n      <td>0</td>\n    </tr>\n    <tr>\n      <th>9</th>\n      <td>Jさん</td>\n      <td>200</td>\n      <td>L</td>\n      <td>tea</td>\n      <td>0</td>\n      <td>0</td>\n      <td>1</td>\n    </tr>\n  </tbody>\n</table>\n</div>"
     },
     "metadata": {},
     "execution_count": 4
    }
   ],
   "source": [
    "df_dummy = pd.concat([df, df_gd], axis=1)\n",
    "df_dummy"
   ]
  },
  {
   "source": [
    "## OneHotEncoder"
   ],
   "cell_type": "markdown",
   "metadata": {}
  },
  {
   "cell_type": "code",
   "execution_count": 5,
   "metadata": {},
   "outputs": [],
   "source": [
    "from sklearn.preprocessing import OneHotEncoder"
   ]
  },
  {
   "cell_type": "code",
   "execution_count": 6,
   "metadata": {},
   "outputs": [
    {
     "output_type": "stream",
     "name": "stdout",
     "text": [
      "<class 'numpy.ndarray'>\n"
     ]
    },
    {
     "output_type": "execute_result",
     "data": {
      "text/plain": [
       "array([[0, 1, 0],\n",
       "       [0, 0, 1],\n",
       "       [1, 0, 0],\n",
       "       [0, 0, 1],\n",
       "       [1, 0, 0],\n",
       "       [0, 0, 1],\n",
       "       [0, 0, 1],\n",
       "       [1, 0, 0],\n",
       "       [0, 1, 0],\n",
       "       [0, 0, 1]])"
      ]
     },
     "metadata": {},
     "execution_count": 6
    }
   ],
   "source": [
    "oenc =  OneHotEncoder(sparse=False, dtype=int)\n",
    "oenc.fit(df[['drink']])\n",
    "oenc_vec = oenc.transform(df[['drink']])\n",
    "print(type(oenc_vec))\n",
    "oenc_vec"
   ]
  },
  {
   "cell_type": "code",
   "execution_count": 7,
   "metadata": {},
   "outputs": [
    {
     "output_type": "execute_result",
     "data": {
      "text/plain": [
       "   coffee  cola  tea\n",
       "0       0     1    0\n",
       "1       0     0    1\n",
       "2       1     0    0\n",
       "3       0     0    1\n",
       "4       1     0    0\n",
       "5       0     0    1\n",
       "6       0     0    1\n",
       "7       1     0    0\n",
       "8       0     1    0\n",
       "9       0     0    1"
      ],
      "text/html": "<div>\n<style scoped>\n    .dataframe tbody tr th:only-of-type {\n        vertical-align: middle;\n    }\n\n    .dataframe tbody tr th {\n        vertical-align: top;\n    }\n\n    .dataframe thead th {\n        text-align: right;\n    }\n</style>\n<table border=\"1\" class=\"dataframe\">\n  <thead>\n    <tr style=\"text-align: right;\">\n      <th></th>\n      <th>coffee</th>\n      <th>cola</th>\n      <th>tea</th>\n    </tr>\n  </thead>\n  <tbody>\n    <tr>\n      <th>0</th>\n      <td>0</td>\n      <td>1</td>\n      <td>0</td>\n    </tr>\n    <tr>\n      <th>1</th>\n      <td>0</td>\n      <td>0</td>\n      <td>1</td>\n    </tr>\n    <tr>\n      <th>2</th>\n      <td>1</td>\n      <td>0</td>\n      <td>0</td>\n    </tr>\n    <tr>\n      <th>3</th>\n      <td>0</td>\n      <td>0</td>\n      <td>1</td>\n    </tr>\n    <tr>\n      <th>4</th>\n      <td>1</td>\n      <td>0</td>\n      <td>0</td>\n    </tr>\n    <tr>\n      <th>5</th>\n      <td>0</td>\n      <td>0</td>\n      <td>1</td>\n    </tr>\n    <tr>\n      <th>6</th>\n      <td>0</td>\n      <td>0</td>\n      <td>1</td>\n    </tr>\n    <tr>\n      <th>7</th>\n      <td>1</td>\n      <td>0</td>\n      <td>0</td>\n    </tr>\n    <tr>\n      <th>8</th>\n      <td>0</td>\n      <td>1</td>\n      <td>0</td>\n    </tr>\n    <tr>\n      <th>9</th>\n      <td>0</td>\n      <td>0</td>\n      <td>1</td>\n    </tr>\n  </tbody>\n</table>\n</div>"
     },
     "metadata": {},
     "execution_count": 7
    }
   ],
   "source": [
    "df_oenc = pd.DataFrame(oenc_vec, columns=['coffee', 'cola', 'tea'])\n",
    "df_oenc"
   ]
  },
  {
   "cell_type": "code",
   "execution_count": 8,
   "metadata": {},
   "outputs": [
    {
     "output_type": "execute_result",
     "data": {
      "text/plain": [
       "  user  price size   drink  coffee  cola  tea\n",
       "0  Aさん    100    S    cola       0     1    0\n",
       "1  Bさん    150    M     tea       0     0    1\n",
       "2  Cさん    200    L  coffee       1     0    0\n",
       "3  Dさん    100    S     tea       0     0    1\n",
       "4  Eさん    200    L  coffee       1     0    0\n",
       "5  Fさん    200    L     tea       0     0    1\n",
       "6  Gさん    150    M     tea       0     0    1\n",
       "7  Hさん    200    L  coffee       1     0    0\n",
       "8  Iさん    100    S    cola       0     1    0\n",
       "9  Jさん    200    L     tea       0     0    1"
      ],
      "text/html": "<div>\n<style scoped>\n    .dataframe tbody tr th:only-of-type {\n        vertical-align: middle;\n    }\n\n    .dataframe tbody tr th {\n        vertical-align: top;\n    }\n\n    .dataframe thead th {\n        text-align: right;\n    }\n</style>\n<table border=\"1\" class=\"dataframe\">\n  <thead>\n    <tr style=\"text-align: right;\">\n      <th></th>\n      <th>user</th>\n      <th>price</th>\n      <th>size</th>\n      <th>drink</th>\n      <th>coffee</th>\n      <th>cola</th>\n      <th>tea</th>\n    </tr>\n  </thead>\n  <tbody>\n    <tr>\n      <th>0</th>\n      <td>Aさん</td>\n      <td>100</td>\n      <td>S</td>\n      <td>cola</td>\n      <td>0</td>\n      <td>1</td>\n      <td>0</td>\n    </tr>\n    <tr>\n      <th>1</th>\n      <td>Bさん</td>\n      <td>150</td>\n      <td>M</td>\n      <td>tea</td>\n      <td>0</td>\n      <td>0</td>\n      <td>1</td>\n    </tr>\n    <tr>\n      <th>2</th>\n      <td>Cさん</td>\n      <td>200</td>\n      <td>L</td>\n      <td>coffee</td>\n      <td>1</td>\n      <td>0</td>\n      <td>0</td>\n    </tr>\n    <tr>\n      <th>3</th>\n      <td>Dさん</td>\n      <td>100</td>\n      <td>S</td>\n      <td>tea</td>\n      <td>0</td>\n      <td>0</td>\n      <td>1</td>\n    </tr>\n    <tr>\n      <th>4</th>\n      <td>Eさん</td>\n      <td>200</td>\n      <td>L</td>\n      <td>coffee</td>\n      <td>1</td>\n      <td>0</td>\n      <td>0</td>\n    </tr>\n    <tr>\n      <th>5</th>\n      <td>Fさん</td>\n      <td>200</td>\n      <td>L</td>\n      <td>tea</td>\n      <td>0</td>\n      <td>0</td>\n      <td>1</td>\n    </tr>\n    <tr>\n      <th>6</th>\n      <td>Gさん</td>\n      <td>150</td>\n      <td>M</td>\n      <td>tea</td>\n      <td>0</td>\n      <td>0</td>\n      <td>1</td>\n    </tr>\n    <tr>\n      <th>7</th>\n      <td>Hさん</td>\n      <td>200</td>\n      <td>L</td>\n      <td>coffee</td>\n      <td>1</td>\n      <td>0</td>\n      <td>0</td>\n    </tr>\n    <tr>\n      <th>8</th>\n      <td>Iさん</td>\n      <td>100</td>\n      <td>S</td>\n      <td>cola</td>\n      <td>0</td>\n      <td>1</td>\n      <td>0</td>\n    </tr>\n    <tr>\n      <th>9</th>\n      <td>Jさん</td>\n      <td>200</td>\n      <td>L</td>\n      <td>tea</td>\n      <td>0</td>\n      <td>0</td>\n      <td>1</td>\n    </tr>\n  </tbody>\n</table>\n</div>"
     },
     "metadata": {},
     "execution_count": 8
    }
   ],
   "source": [
    "df_oht =  pd.concat([df, df_oenc], axis=1)\n",
    "df_oht"
   ]
  },
  {
   "source": [
    "## LabelBinarizer"
   ],
   "cell_type": "markdown",
   "metadata": {}
  },
  {
   "cell_type": "code",
   "execution_count": 9,
   "metadata": {},
   "outputs": [],
   "source": [
    "from sklearn.preprocessing import LabelBinarizer"
   ]
  },
  {
   "cell_type": "code",
   "execution_count": 10,
   "metadata": {},
   "outputs": [
    {
     "output_type": "execute_result",
     "data": {
      "text/plain": [
       "  user  price size   drink  coffee  cola  tea\n",
       "0  Aさん    100    S    cola       0     1    0\n",
       "1  Bさん    150    M     tea       0     0    1\n",
       "2  Cさん    200    L  coffee       1     0    0\n",
       "3  Dさん    100    S     tea       0     0    1\n",
       "4  Eさん    200    L  coffee       1     0    0\n",
       "5  Fさん    200    L     tea       0     0    1\n",
       "6  Gさん    150    M     tea       0     0    1\n",
       "7  Hさん    200    L  coffee       1     0    0\n",
       "8  Iさん    100    S    cola       0     1    0\n",
       "9  Jさん    200    L     tea       0     0    1"
      ],
      "text/html": "<div>\n<style scoped>\n    .dataframe tbody tr th:only-of-type {\n        vertical-align: middle;\n    }\n\n    .dataframe tbody tr th {\n        vertical-align: top;\n    }\n\n    .dataframe thead th {\n        text-align: right;\n    }\n</style>\n<table border=\"1\" class=\"dataframe\">\n  <thead>\n    <tr style=\"text-align: right;\">\n      <th></th>\n      <th>user</th>\n      <th>price</th>\n      <th>size</th>\n      <th>drink</th>\n      <th>coffee</th>\n      <th>cola</th>\n      <th>tea</th>\n    </tr>\n  </thead>\n  <tbody>\n    <tr>\n      <th>0</th>\n      <td>Aさん</td>\n      <td>100</td>\n      <td>S</td>\n      <td>cola</td>\n      <td>0</td>\n      <td>1</td>\n      <td>0</td>\n    </tr>\n    <tr>\n      <th>1</th>\n      <td>Bさん</td>\n      <td>150</td>\n      <td>M</td>\n      <td>tea</td>\n      <td>0</td>\n      <td>0</td>\n      <td>1</td>\n    </tr>\n    <tr>\n      <th>2</th>\n      <td>Cさん</td>\n      <td>200</td>\n      <td>L</td>\n      <td>coffee</td>\n      <td>1</td>\n      <td>0</td>\n      <td>0</td>\n    </tr>\n    <tr>\n      <th>3</th>\n      <td>Dさん</td>\n      <td>100</td>\n      <td>S</td>\n      <td>tea</td>\n      <td>0</td>\n      <td>0</td>\n      <td>1</td>\n    </tr>\n    <tr>\n      <th>4</th>\n      <td>Eさん</td>\n      <td>200</td>\n      <td>L</td>\n      <td>coffee</td>\n      <td>1</td>\n      <td>0</td>\n      <td>0</td>\n    </tr>\n    <tr>\n      <th>5</th>\n      <td>Fさん</td>\n      <td>200</td>\n      <td>L</td>\n      <td>tea</td>\n      <td>0</td>\n      <td>0</td>\n      <td>1</td>\n    </tr>\n    <tr>\n      <th>6</th>\n      <td>Gさん</td>\n      <td>150</td>\n      <td>M</td>\n      <td>tea</td>\n      <td>0</td>\n      <td>0</td>\n      <td>1</td>\n    </tr>\n    <tr>\n      <th>7</th>\n      <td>Hさん</td>\n      <td>200</td>\n      <td>L</td>\n      <td>coffee</td>\n      <td>1</td>\n      <td>0</td>\n      <td>0</td>\n    </tr>\n    <tr>\n      <th>8</th>\n      <td>Iさん</td>\n      <td>100</td>\n      <td>S</td>\n      <td>cola</td>\n      <td>0</td>\n      <td>1</td>\n      <td>0</td>\n    </tr>\n    <tr>\n      <th>9</th>\n      <td>Jさん</td>\n      <td>200</td>\n      <td>L</td>\n      <td>tea</td>\n      <td>0</td>\n      <td>0</td>\n      <td>1</td>\n    </tr>\n  </tbody>\n</table>\n</div>"
     },
     "metadata": {},
     "execution_count": 10
    }
   ],
   "source": [
    "lbnr = LabelBinarizer()\n",
    "lbnr.fit(df[['drink']])\n",
    "df_lbnr =  pd.concat([df, pd.DataFrame(lbnr.transform(df[['drink']]), columns=['coffee', 'cola', 'tea'])], axis=1)\n",
    "df_lbnr"
   ]
  },
  {
   "source": [
    "## 違い"
   ],
   "cell_type": "markdown",
   "metadata": {}
  },
  {
   "cell_type": "code",
   "execution_count": 27,
   "metadata": {},
   "outputs": [
    {
     "output_type": "execute_result",
     "data": {
      "text/plain": [
       "  user  price size   drink nan_and_inf\n",
       "0  Aさん    100    S    cola           A\n",
       "1  Bさん    150    M     tea           A\n",
       "2  Cさん    200    L  coffee           A\n",
       "3  Dさん    100    S     tea           A\n",
       "4  Eさん    200    L  coffee           A\n",
       "5  Fさん    200    L     tea           A\n",
       "6  Gさん    150    M     tea         NaN\n",
       "7  Hさん    200    L  coffee         inf\n",
       "8  Iさん    100    S    cola           B\n",
       "9  Jさん    200    L     tea           B"
      ],
      "text/html": "<div>\n<style scoped>\n    .dataframe tbody tr th:only-of-type {\n        vertical-align: middle;\n    }\n\n    .dataframe tbody tr th {\n        vertical-align: top;\n    }\n\n    .dataframe thead th {\n        text-align: right;\n    }\n</style>\n<table border=\"1\" class=\"dataframe\">\n  <thead>\n    <tr style=\"text-align: right;\">\n      <th></th>\n      <th>user</th>\n      <th>price</th>\n      <th>size</th>\n      <th>drink</th>\n      <th>nan_and_inf</th>\n    </tr>\n  </thead>\n  <tbody>\n    <tr>\n      <th>0</th>\n      <td>Aさん</td>\n      <td>100</td>\n      <td>S</td>\n      <td>cola</td>\n      <td>A</td>\n    </tr>\n    <tr>\n      <th>1</th>\n      <td>Bさん</td>\n      <td>150</td>\n      <td>M</td>\n      <td>tea</td>\n      <td>A</td>\n    </tr>\n    <tr>\n      <th>2</th>\n      <td>Cさん</td>\n      <td>200</td>\n      <td>L</td>\n      <td>coffee</td>\n      <td>A</td>\n    </tr>\n    <tr>\n      <th>3</th>\n      <td>Dさん</td>\n      <td>100</td>\n      <td>S</td>\n      <td>tea</td>\n      <td>A</td>\n    </tr>\n    <tr>\n      <th>4</th>\n      <td>Eさん</td>\n      <td>200</td>\n      <td>L</td>\n      <td>coffee</td>\n      <td>A</td>\n    </tr>\n    <tr>\n      <th>5</th>\n      <td>Fさん</td>\n      <td>200</td>\n      <td>L</td>\n      <td>tea</td>\n      <td>A</td>\n    </tr>\n    <tr>\n      <th>6</th>\n      <td>Gさん</td>\n      <td>150</td>\n      <td>M</td>\n      <td>tea</td>\n      <td>NaN</td>\n    </tr>\n    <tr>\n      <th>7</th>\n      <td>Hさん</td>\n      <td>200</td>\n      <td>L</td>\n      <td>coffee</td>\n      <td>inf</td>\n    </tr>\n    <tr>\n      <th>8</th>\n      <td>Iさん</td>\n      <td>100</td>\n      <td>S</td>\n      <td>cola</td>\n      <td>B</td>\n    </tr>\n    <tr>\n      <th>9</th>\n      <td>Jさん</td>\n      <td>200</td>\n      <td>L</td>\n      <td>tea</td>\n      <td>B</td>\n    </tr>\n  </tbody>\n</table>\n</div>"
     },
     "metadata": {},
     "execution_count": 27
    }
   ],
   "source": [
    "import numpy as np\n",
    "enc = OneHotEncoder(sparse=False)\n",
    "df['nan_and_inf'] = ['A', 'A', 'A', 'A', 'A', 'A', np.nan, np.inf, 'B', 'B']\n",
    "df"
   ]
  },
  {
   "cell_type": "code",
   "execution_count": 28,
   "metadata": {},
   "outputs": [
    {
     "output_type": "error",
     "ename": "ValueError",
     "evalue": "Input contains NaN",
     "traceback": [
      "\u001b[1;31m---------------------------------------------------------------------------\u001b[0m",
      "\u001b[1;31mValueError\u001b[0m                                Traceback (most recent call last)",
      "\u001b[1;32m<ipython-input-28-c47c6154d593>\u001b[0m in \u001b[0;36m<module>\u001b[1;34m\u001b[0m\n\u001b[1;32m----> 1\u001b[1;33m \u001b[0monehot_X\u001b[0m \u001b[1;33m=\u001b[0m \u001b[0menc\u001b[0m\u001b[1;33m.\u001b[0m\u001b[0mfit_transform\u001b[0m\u001b[1;33m(\u001b[0m\u001b[0mdf\u001b[0m\u001b[1;33m[\u001b[0m\u001b[1;33m[\u001b[0m\u001b[1;34m'nan_and_inf'\u001b[0m\u001b[1;33m]\u001b[0m\u001b[1;33m]\u001b[0m\u001b[1;33m)\u001b[0m \u001b[1;31m# ここでエラーが出る\u001b[0m\u001b[1;33m\u001b[0m\u001b[1;33m\u001b[0m\u001b[0m\n\u001b[0m",
      "\u001b[1;32m~\\Anaconda3\\lib\\site-packages\\sklearn\\preprocessing\\_encoders.py\u001b[0m in \u001b[0;36mfit_transform\u001b[1;34m(self, X, y)\u001b[0m\n\u001b[0;32m    408\u001b[0m         \"\"\"\n\u001b[0;32m    409\u001b[0m         \u001b[0mself\u001b[0m\u001b[1;33m.\u001b[0m\u001b[0m_validate_keywords\u001b[0m\u001b[1;33m(\u001b[0m\u001b[1;33m)\u001b[0m\u001b[1;33m\u001b[0m\u001b[1;33m\u001b[0m\u001b[0m\n\u001b[1;32m--> 410\u001b[1;33m         \u001b[1;32mreturn\u001b[0m \u001b[0msuper\u001b[0m\u001b[1;33m(\u001b[0m\u001b[1;33m)\u001b[0m\u001b[1;33m.\u001b[0m\u001b[0mfit_transform\u001b[0m\u001b[1;33m(\u001b[0m\u001b[0mX\u001b[0m\u001b[1;33m,\u001b[0m \u001b[0my\u001b[0m\u001b[1;33m)\u001b[0m\u001b[1;33m\u001b[0m\u001b[1;33m\u001b[0m\u001b[0m\n\u001b[0m\u001b[0;32m    411\u001b[0m \u001b[1;33m\u001b[0m\u001b[0m\n\u001b[0;32m    412\u001b[0m     \u001b[1;32mdef\u001b[0m \u001b[0mtransform\u001b[0m\u001b[1;33m(\u001b[0m\u001b[0mself\u001b[0m\u001b[1;33m,\u001b[0m \u001b[0mX\u001b[0m\u001b[1;33m)\u001b[0m\u001b[1;33m:\u001b[0m\u001b[1;33m\u001b[0m\u001b[1;33m\u001b[0m\u001b[0m\n",
      "\u001b[1;32m~\\Anaconda3\\lib\\site-packages\\sklearn\\base.py\u001b[0m in \u001b[0;36mfit_transform\u001b[1;34m(self, X, y, **fit_params)\u001b[0m\n\u001b[0;32m    688\u001b[0m         \u001b[1;32mif\u001b[0m \u001b[0my\u001b[0m \u001b[1;32mis\u001b[0m \u001b[1;32mNone\u001b[0m\u001b[1;33m:\u001b[0m\u001b[1;33m\u001b[0m\u001b[1;33m\u001b[0m\u001b[0m\n\u001b[0;32m    689\u001b[0m             \u001b[1;31m# fit method of arity 1 (unsupervised transformation)\u001b[0m\u001b[1;33m\u001b[0m\u001b[1;33m\u001b[0m\u001b[1;33m\u001b[0m\u001b[0m\n\u001b[1;32m--> 690\u001b[1;33m             \u001b[1;32mreturn\u001b[0m \u001b[0mself\u001b[0m\u001b[1;33m.\u001b[0m\u001b[0mfit\u001b[0m\u001b[1;33m(\u001b[0m\u001b[0mX\u001b[0m\u001b[1;33m,\u001b[0m \u001b[1;33m**\u001b[0m\u001b[0mfit_params\u001b[0m\u001b[1;33m)\u001b[0m\u001b[1;33m.\u001b[0m\u001b[0mtransform\u001b[0m\u001b[1;33m(\u001b[0m\u001b[0mX\u001b[0m\u001b[1;33m)\u001b[0m\u001b[1;33m\u001b[0m\u001b[1;33m\u001b[0m\u001b[0m\n\u001b[0m\u001b[0;32m    691\u001b[0m         \u001b[1;32melse\u001b[0m\u001b[1;33m:\u001b[0m\u001b[1;33m\u001b[0m\u001b[1;33m\u001b[0m\u001b[0m\n\u001b[0;32m    692\u001b[0m             \u001b[1;31m# fit method of arity 2 (supervised transformation)\u001b[0m\u001b[1;33m\u001b[0m\u001b[1;33m\u001b[0m\u001b[1;33m\u001b[0m\u001b[0m\n",
      "\u001b[1;32m~\\Anaconda3\\lib\\site-packages\\sklearn\\preprocessing\\_encoders.py\u001b[0m in \u001b[0;36mfit\u001b[1;34m(self, X, y)\u001b[0m\n\u001b[0;32m    383\u001b[0m         \"\"\"\n\u001b[0;32m    384\u001b[0m         \u001b[0mself\u001b[0m\u001b[1;33m.\u001b[0m\u001b[0m_validate_keywords\u001b[0m\u001b[1;33m(\u001b[0m\u001b[1;33m)\u001b[0m\u001b[1;33m\u001b[0m\u001b[1;33m\u001b[0m\u001b[0m\n\u001b[1;32m--> 385\u001b[1;33m         \u001b[0mself\u001b[0m\u001b[1;33m.\u001b[0m\u001b[0m_fit\u001b[0m\u001b[1;33m(\u001b[0m\u001b[0mX\u001b[0m\u001b[1;33m,\u001b[0m \u001b[0mhandle_unknown\u001b[0m\u001b[1;33m=\u001b[0m\u001b[0mself\u001b[0m\u001b[1;33m.\u001b[0m\u001b[0mhandle_unknown\u001b[0m\u001b[1;33m)\u001b[0m\u001b[1;33m\u001b[0m\u001b[1;33m\u001b[0m\u001b[0m\n\u001b[0m\u001b[0;32m    386\u001b[0m         \u001b[0mself\u001b[0m\u001b[1;33m.\u001b[0m\u001b[0mdrop_idx_\u001b[0m \u001b[1;33m=\u001b[0m \u001b[0mself\u001b[0m\u001b[1;33m.\u001b[0m\u001b[0m_compute_drop_idx\u001b[0m\u001b[1;33m(\u001b[0m\u001b[1;33m)\u001b[0m\u001b[1;33m\u001b[0m\u001b[1;33m\u001b[0m\u001b[0m\n\u001b[0;32m    387\u001b[0m         \u001b[1;32mreturn\u001b[0m \u001b[0mself\u001b[0m\u001b[1;33m\u001b[0m\u001b[1;33m\u001b[0m\u001b[0m\n",
      "\u001b[1;32m~\\Anaconda3\\lib\\site-packages\\sklearn\\preprocessing\\_encoders.py\u001b[0m in \u001b[0;36m_fit\u001b[1;34m(self, X, handle_unknown)\u001b[0m\n\u001b[0;32m     72\u001b[0m \u001b[1;33m\u001b[0m\u001b[0m\n\u001b[0;32m     73\u001b[0m     \u001b[1;32mdef\u001b[0m \u001b[0m_fit\u001b[0m\u001b[1;33m(\u001b[0m\u001b[0mself\u001b[0m\u001b[1;33m,\u001b[0m \u001b[0mX\u001b[0m\u001b[1;33m,\u001b[0m \u001b[0mhandle_unknown\u001b[0m\u001b[1;33m=\u001b[0m\u001b[1;34m'error'\u001b[0m\u001b[1;33m)\u001b[0m\u001b[1;33m:\u001b[0m\u001b[1;33m\u001b[0m\u001b[1;33m\u001b[0m\u001b[0m\n\u001b[1;32m---> 74\u001b[1;33m         \u001b[0mX_list\u001b[0m\u001b[1;33m,\u001b[0m \u001b[0mn_samples\u001b[0m\u001b[1;33m,\u001b[0m \u001b[0mn_features\u001b[0m \u001b[1;33m=\u001b[0m \u001b[0mself\u001b[0m\u001b[1;33m.\u001b[0m\u001b[0m_check_X\u001b[0m\u001b[1;33m(\u001b[0m\u001b[0mX\u001b[0m\u001b[1;33m)\u001b[0m\u001b[1;33m\u001b[0m\u001b[1;33m\u001b[0m\u001b[0m\n\u001b[0m\u001b[0;32m     75\u001b[0m \u001b[1;33m\u001b[0m\u001b[0m\n\u001b[0;32m     76\u001b[0m         \u001b[1;32mif\u001b[0m \u001b[0mself\u001b[0m\u001b[1;33m.\u001b[0m\u001b[0mcategories\u001b[0m \u001b[1;33m!=\u001b[0m \u001b[1;34m'auto'\u001b[0m\u001b[1;33m:\u001b[0m\u001b[1;33m\u001b[0m\u001b[1;33m\u001b[0m\u001b[0m\n",
      "\u001b[1;32m~\\Anaconda3\\lib\\site-packages\\sklearn\\preprocessing\\_encoders.py\u001b[0m in \u001b[0;36m_check_X\u001b[1;34m(self, X)\u001b[0m\n\u001b[0;32m     59\u001b[0m             \u001b[0mXi\u001b[0m \u001b[1;33m=\u001b[0m \u001b[0mself\u001b[0m\u001b[1;33m.\u001b[0m\u001b[0m_get_feature\u001b[0m\u001b[1;33m(\u001b[0m\u001b[0mX\u001b[0m\u001b[1;33m,\u001b[0m \u001b[0mfeature_idx\u001b[0m\u001b[1;33m=\u001b[0m\u001b[0mi\u001b[0m\u001b[1;33m)\u001b[0m\u001b[1;33m\u001b[0m\u001b[1;33m\u001b[0m\u001b[0m\n\u001b[0;32m     60\u001b[0m             Xi = check_array(Xi, ensure_2d=False, dtype=None,\n\u001b[1;32m---> 61\u001b[1;33m                              force_all_finite=needs_validation)\n\u001b[0m\u001b[0;32m     62\u001b[0m             \u001b[0mX_columns\u001b[0m\u001b[1;33m.\u001b[0m\u001b[0mappend\u001b[0m\u001b[1;33m(\u001b[0m\u001b[0mXi\u001b[0m\u001b[1;33m)\u001b[0m\u001b[1;33m\u001b[0m\u001b[1;33m\u001b[0m\u001b[0m\n\u001b[0;32m     63\u001b[0m \u001b[1;33m\u001b[0m\u001b[0m\n",
      "\u001b[1;32m~\\Anaconda3\\lib\\site-packages\\sklearn\\utils\\validation.py\u001b[0m in \u001b[0;36minner_f\u001b[1;34m(*args, **kwargs)\u001b[0m\n\u001b[0;32m     70\u001b[0m                           FutureWarning)\n\u001b[0;32m     71\u001b[0m         \u001b[0mkwargs\u001b[0m\u001b[1;33m.\u001b[0m\u001b[0mupdate\u001b[0m\u001b[1;33m(\u001b[0m\u001b[1;33m{\u001b[0m\u001b[0mk\u001b[0m\u001b[1;33m:\u001b[0m \u001b[0marg\u001b[0m \u001b[1;32mfor\u001b[0m \u001b[0mk\u001b[0m\u001b[1;33m,\u001b[0m \u001b[0marg\u001b[0m \u001b[1;32min\u001b[0m \u001b[0mzip\u001b[0m\u001b[1;33m(\u001b[0m\u001b[0msig\u001b[0m\u001b[1;33m.\u001b[0m\u001b[0mparameters\u001b[0m\u001b[1;33m,\u001b[0m \u001b[0margs\u001b[0m\u001b[1;33m)\u001b[0m\u001b[1;33m}\u001b[0m\u001b[1;33m)\u001b[0m\u001b[1;33m\u001b[0m\u001b[1;33m\u001b[0m\u001b[0m\n\u001b[1;32m---> 72\u001b[1;33m         \u001b[1;32mreturn\u001b[0m \u001b[0mf\u001b[0m\u001b[1;33m(\u001b[0m\u001b[1;33m**\u001b[0m\u001b[0mkwargs\u001b[0m\u001b[1;33m)\u001b[0m\u001b[1;33m\u001b[0m\u001b[1;33m\u001b[0m\u001b[0m\n\u001b[0m\u001b[0;32m     73\u001b[0m     \u001b[1;32mreturn\u001b[0m \u001b[0minner_f\u001b[0m\u001b[1;33m\u001b[0m\u001b[1;33m\u001b[0m\u001b[0m\n\u001b[0;32m     74\u001b[0m \u001b[1;33m\u001b[0m\u001b[0m\n",
      "\u001b[1;32m~\\Anaconda3\\lib\\site-packages\\sklearn\\utils\\validation.py\u001b[0m in \u001b[0;36mcheck_array\u001b[1;34m(array, accept_sparse, accept_large_sparse, dtype, order, copy, force_all_finite, ensure_2d, allow_nd, ensure_min_samples, ensure_min_features, estimator)\u001b[0m\n\u001b[0;32m    643\u001b[0m         \u001b[1;32mif\u001b[0m \u001b[0mforce_all_finite\u001b[0m\u001b[1;33m:\u001b[0m\u001b[1;33m\u001b[0m\u001b[1;33m\u001b[0m\u001b[0m\n\u001b[0;32m    644\u001b[0m             _assert_all_finite(array,\n\u001b[1;32m--> 645\u001b[1;33m                                allow_nan=force_all_finite == 'allow-nan')\n\u001b[0m\u001b[0;32m    646\u001b[0m \u001b[1;33m\u001b[0m\u001b[0m\n\u001b[0;32m    647\u001b[0m     \u001b[1;32mif\u001b[0m \u001b[0mensure_min_samples\u001b[0m \u001b[1;33m>\u001b[0m \u001b[1;36m0\u001b[0m\u001b[1;33m:\u001b[0m\u001b[1;33m\u001b[0m\u001b[1;33m\u001b[0m\u001b[0m\n",
      "\u001b[1;32m~\\Anaconda3\\lib\\site-packages\\sklearn\\utils\\validation.py\u001b[0m in \u001b[0;36m_assert_all_finite\u001b[1;34m(X, allow_nan, msg_dtype)\u001b[0m\n\u001b[0;32m    102\u001b[0m     \u001b[1;32melif\u001b[0m \u001b[0mX\u001b[0m\u001b[1;33m.\u001b[0m\u001b[0mdtype\u001b[0m \u001b[1;33m==\u001b[0m \u001b[0mnp\u001b[0m\u001b[1;33m.\u001b[0m\u001b[0mdtype\u001b[0m\u001b[1;33m(\u001b[0m\u001b[1;34m'object'\u001b[0m\u001b[1;33m)\u001b[0m \u001b[1;32mand\u001b[0m \u001b[1;32mnot\u001b[0m \u001b[0mallow_nan\u001b[0m\u001b[1;33m:\u001b[0m\u001b[1;33m\u001b[0m\u001b[1;33m\u001b[0m\u001b[0m\n\u001b[0;32m    103\u001b[0m         \u001b[1;32mif\u001b[0m \u001b[0m_object_dtype_isnan\u001b[0m\u001b[1;33m(\u001b[0m\u001b[0mX\u001b[0m\u001b[1;33m)\u001b[0m\u001b[1;33m.\u001b[0m\u001b[0many\u001b[0m\u001b[1;33m(\u001b[0m\u001b[1;33m)\u001b[0m\u001b[1;33m:\u001b[0m\u001b[1;33m\u001b[0m\u001b[1;33m\u001b[0m\u001b[0m\n\u001b[1;32m--> 104\u001b[1;33m             \u001b[1;32mraise\u001b[0m \u001b[0mValueError\u001b[0m\u001b[1;33m(\u001b[0m\u001b[1;34m\"Input contains NaN\"\u001b[0m\u001b[1;33m)\u001b[0m\u001b[1;33m\u001b[0m\u001b[1;33m\u001b[0m\u001b[0m\n\u001b[0m\u001b[0;32m    105\u001b[0m \u001b[1;33m\u001b[0m\u001b[0m\n\u001b[0;32m    106\u001b[0m \u001b[1;33m\u001b[0m\u001b[0m\n",
      "\u001b[1;31mValueError\u001b[0m: Input contains NaN"
     ]
    }
   ],
   "source": [
    "onehot_X = enc.fit_transform(df[['nan_and_inf']]) # ここでエラーが出る"
   ]
  },
  {
   "cell_type": "code",
   "execution_count": 25,
   "metadata": {},
   "outputs": [
    {
     "output_type": "execute_result",
     "data": {
      "text/plain": [
       "   inf  A  B\n",
       "0    0  1  0\n",
       "1    0  1  0\n",
       "2    0  1  0\n",
       "3    0  1  0\n",
       "4    0  1  0\n",
       "5    0  1  0\n",
       "6    0  0  0\n",
       "7    1  0  0\n",
       "8    0  0  1\n",
       "9    0  0  1"
      ],
      "text/html": "<div>\n<style scoped>\n    .dataframe tbody tr th:only-of-type {\n        vertical-align: middle;\n    }\n\n    .dataframe tbody tr th {\n        vertical-align: top;\n    }\n\n    .dataframe thead th {\n        text-align: right;\n    }\n</style>\n<table border=\"1\" class=\"dataframe\">\n  <thead>\n    <tr style=\"text-align: right;\">\n      <th></th>\n      <th>inf</th>\n      <th>A</th>\n      <th>B</th>\n    </tr>\n  </thead>\n  <tbody>\n    <tr>\n      <th>0</th>\n      <td>0</td>\n      <td>1</td>\n      <td>0</td>\n    </tr>\n    <tr>\n      <th>1</th>\n      <td>0</td>\n      <td>1</td>\n      <td>0</td>\n    </tr>\n    <tr>\n      <th>2</th>\n      <td>0</td>\n      <td>1</td>\n      <td>0</td>\n    </tr>\n    <tr>\n      <th>3</th>\n      <td>0</td>\n      <td>1</td>\n      <td>0</td>\n    </tr>\n    <tr>\n      <th>4</th>\n      <td>0</td>\n      <td>1</td>\n      <td>0</td>\n    </tr>\n    <tr>\n      <th>5</th>\n      <td>0</td>\n      <td>1</td>\n      <td>0</td>\n    </tr>\n    <tr>\n      <th>6</th>\n      <td>0</td>\n      <td>0</td>\n      <td>0</td>\n    </tr>\n    <tr>\n      <th>7</th>\n      <td>1</td>\n      <td>0</td>\n      <td>0</td>\n    </tr>\n    <tr>\n      <th>8</th>\n      <td>0</td>\n      <td>0</td>\n      <td>1</td>\n    </tr>\n    <tr>\n      <th>9</th>\n      <td>0</td>\n      <td>0</td>\n      <td>1</td>\n    </tr>\n  </tbody>\n</table>\n</div>"
     },
     "metadata": {},
     "execution_count": 25
    }
   ],
   "source": [
    "pd.get_dummies(df['nan_and_inf'])"
   ]
  },
  {
   "cell_type": "code",
   "execution_count": 11,
   "metadata": {},
   "outputs": [
    {
     "output_type": "execute_result",
     "data": {
      "text/plain": [
       "  user  price size   drink\n",
       "0  Kさん    200    L    cola\n",
       "1  Lさん    100    S     tea\n",
       "2  Mさん    150    M  coffee\n",
       "3  Nさん    150   LL   cider"
      ],
      "text/html": "<div>\n<style scoped>\n    .dataframe tbody tr th:only-of-type {\n        vertical-align: middle;\n    }\n\n    .dataframe tbody tr th {\n        vertical-align: top;\n    }\n\n    .dataframe thead th {\n        text-align: right;\n    }\n</style>\n<table border=\"1\" class=\"dataframe\">\n  <thead>\n    <tr style=\"text-align: right;\">\n      <th></th>\n      <th>user</th>\n      <th>price</th>\n      <th>size</th>\n      <th>drink</th>\n    </tr>\n  </thead>\n  <tbody>\n    <tr>\n      <th>0</th>\n      <td>Kさん</td>\n      <td>200</td>\n      <td>L</td>\n      <td>cola</td>\n    </tr>\n    <tr>\n      <th>1</th>\n      <td>Lさん</td>\n      <td>100</td>\n      <td>S</td>\n      <td>tea</td>\n    </tr>\n    <tr>\n      <th>2</th>\n      <td>Mさん</td>\n      <td>150</td>\n      <td>M</td>\n      <td>coffee</td>\n    </tr>\n    <tr>\n      <th>3</th>\n      <td>Nさん</td>\n      <td>150</td>\n      <td>LL</td>\n      <td>cider</td>\n    </tr>\n  </tbody>\n</table>\n</div>"
     },
     "metadata": {},
     "execution_count": 11
    }
   ],
   "source": [
    "train = df.copy()\n",
    "test = pd.DataFrame([\n",
    "        ['Kさん', 200, 'L', 'cola'],\n",
    "        ['Lさん', 100, 'S', 'tea'],\n",
    "        ['Mさん', 150, 'M', 'coffee'],\n",
    "        ['Nさん', 150, 'LL', 'cider']],\n",
    "        columns=['user', 'price', 'size', 'drink'])\n",
    "test"
   ]
  },
  {
   "cell_type": "code",
   "execution_count": 12,
   "metadata": {},
   "outputs": [
    {
     "output_type": "display_data",
     "data": {
      "text/plain": "  user  price size   drink  coffee  cola  tea\n0  Aさん    100    S    cola       0     1    0\n1  Bさん    150    M     tea       0     0    1\n2  Cさん    200    L  coffee       1     0    0\n3  Dさん    100    S     tea       0     0    1\n4  Eさん    200    L  coffee       1     0    0\n5  Fさん    200    L     tea       0     0    1\n6  Gさん    150    M     tea       0     0    1\n7  Hさん    200    L  coffee       1     0    0\n8  Iさん    100    S    cola       0     1    0\n9  Jさん    200    L     tea       0     0    1",
      "text/html": "<div>\n<style scoped>\n    .dataframe tbody tr th:only-of-type {\n        vertical-align: middle;\n    }\n\n    .dataframe tbody tr th {\n        vertical-align: top;\n    }\n\n    .dataframe thead th {\n        text-align: right;\n    }\n</style>\n<table border=\"1\" class=\"dataframe\">\n  <thead>\n    <tr style=\"text-align: right;\">\n      <th></th>\n      <th>user</th>\n      <th>price</th>\n      <th>size</th>\n      <th>drink</th>\n      <th>coffee</th>\n      <th>cola</th>\n      <th>tea</th>\n    </tr>\n  </thead>\n  <tbody>\n    <tr>\n      <th>0</th>\n      <td>Aさん</td>\n      <td>100</td>\n      <td>S</td>\n      <td>cola</td>\n      <td>0</td>\n      <td>1</td>\n      <td>0</td>\n    </tr>\n    <tr>\n      <th>1</th>\n      <td>Bさん</td>\n      <td>150</td>\n      <td>M</td>\n      <td>tea</td>\n      <td>0</td>\n      <td>0</td>\n      <td>1</td>\n    </tr>\n    <tr>\n      <th>2</th>\n      <td>Cさん</td>\n      <td>200</td>\n      <td>L</td>\n      <td>coffee</td>\n      <td>1</td>\n      <td>0</td>\n      <td>0</td>\n    </tr>\n    <tr>\n      <th>3</th>\n      <td>Dさん</td>\n      <td>100</td>\n      <td>S</td>\n      <td>tea</td>\n      <td>0</td>\n      <td>0</td>\n      <td>1</td>\n    </tr>\n    <tr>\n      <th>4</th>\n      <td>Eさん</td>\n      <td>200</td>\n      <td>L</td>\n      <td>coffee</td>\n      <td>1</td>\n      <td>0</td>\n      <td>0</td>\n    </tr>\n    <tr>\n      <th>5</th>\n      <td>Fさん</td>\n      <td>200</td>\n      <td>L</td>\n      <td>tea</td>\n      <td>0</td>\n      <td>0</td>\n      <td>1</td>\n    </tr>\n    <tr>\n      <th>6</th>\n      <td>Gさん</td>\n      <td>150</td>\n      <td>M</td>\n      <td>tea</td>\n      <td>0</td>\n      <td>0</td>\n      <td>1</td>\n    </tr>\n    <tr>\n      <th>7</th>\n      <td>Hさん</td>\n      <td>200</td>\n      <td>L</td>\n      <td>coffee</td>\n      <td>1</td>\n      <td>0</td>\n      <td>0</td>\n    </tr>\n    <tr>\n      <th>8</th>\n      <td>Iさん</td>\n      <td>100</td>\n      <td>S</td>\n      <td>cola</td>\n      <td>0</td>\n      <td>1</td>\n      <td>0</td>\n    </tr>\n    <tr>\n      <th>9</th>\n      <td>Jさん</td>\n      <td>200</td>\n      <td>L</td>\n      <td>tea</td>\n      <td>0</td>\n      <td>0</td>\n      <td>1</td>\n    </tr>\n  </tbody>\n</table>\n</div>"
     },
     "metadata": {}
    },
    {
     "output_type": "display_data",
     "data": {
      "text/plain": "  user  price size   drink  cider  coffee  cola  tea\n0  Kさん    200    L    cola      0       0     1    0\n1  Lさん    100    S     tea      0       0     0    1\n2  Mさん    150    M  coffee      0       1     0    0\n3  Nさん    150   LL   cider      1       0     0    0",
      "text/html": "<div>\n<style scoped>\n    .dataframe tbody tr th:only-of-type {\n        vertical-align: middle;\n    }\n\n    .dataframe tbody tr th {\n        vertical-align: top;\n    }\n\n    .dataframe thead th {\n        text-align: right;\n    }\n</style>\n<table border=\"1\" class=\"dataframe\">\n  <thead>\n    <tr style=\"text-align: right;\">\n      <th></th>\n      <th>user</th>\n      <th>price</th>\n      <th>size</th>\n      <th>drink</th>\n      <th>cider</th>\n      <th>coffee</th>\n      <th>cola</th>\n      <th>tea</th>\n    </tr>\n  </thead>\n  <tbody>\n    <tr>\n      <th>0</th>\n      <td>Kさん</td>\n      <td>200</td>\n      <td>L</td>\n      <td>cola</td>\n      <td>0</td>\n      <td>0</td>\n      <td>1</td>\n      <td>0</td>\n    </tr>\n    <tr>\n      <th>1</th>\n      <td>Lさん</td>\n      <td>100</td>\n      <td>S</td>\n      <td>tea</td>\n      <td>0</td>\n      <td>0</td>\n      <td>0</td>\n      <td>1</td>\n    </tr>\n    <tr>\n      <th>2</th>\n      <td>Mさん</td>\n      <td>150</td>\n      <td>M</td>\n      <td>coffee</td>\n      <td>0</td>\n      <td>1</td>\n      <td>0</td>\n      <td>0</td>\n    </tr>\n    <tr>\n      <th>3</th>\n      <td>Nさん</td>\n      <td>150</td>\n      <td>LL</td>\n      <td>cider</td>\n      <td>1</td>\n      <td>0</td>\n      <td>0</td>\n      <td>0</td>\n    </tr>\n  </tbody>\n</table>\n</div>"
     },
     "metadata": {}
    }
   ],
   "source": [
    "train_gd = pd.get_dummies(train['drink'])\n",
    "test_gd = pd.get_dummies(test['drink'])\n",
    "\n",
    "train_df = pd.concat([train, train_gd], axis=1)\n",
    "test_df = pd.concat([test, test_gd], axis=1)\n",
    "\n",
    "display(train_df)\n",
    "display(test_df)"
   ]
  },
  {
   "cell_type": "code",
   "execution_count": 13,
   "metadata": {},
   "outputs": [
    {
     "output_type": "display_data",
     "data": {
      "text/plain": "   coffee  cola  tea\n0       0     1    0\n1       0     0    1\n2       1     0    0\n3       0     0    1\n4       1     0    0\n5       0     0    1\n6       0     0    1\n7       1     0    0\n8       0     1    0\n9       0     0    1",
      "text/html": "<div>\n<style scoped>\n    .dataframe tbody tr th:only-of-type {\n        vertical-align: middle;\n    }\n\n    .dataframe tbody tr th {\n        vertical-align: top;\n    }\n\n    .dataframe thead th {\n        text-align: right;\n    }\n</style>\n<table border=\"1\" class=\"dataframe\">\n  <thead>\n    <tr style=\"text-align: right;\">\n      <th></th>\n      <th>coffee</th>\n      <th>cola</th>\n      <th>tea</th>\n    </tr>\n  </thead>\n  <tbody>\n    <tr>\n      <th>0</th>\n      <td>0</td>\n      <td>1</td>\n      <td>0</td>\n    </tr>\n    <tr>\n      <th>1</th>\n      <td>0</td>\n      <td>0</td>\n      <td>1</td>\n    </tr>\n    <tr>\n      <th>2</th>\n      <td>1</td>\n      <td>0</td>\n      <td>0</td>\n    </tr>\n    <tr>\n      <th>3</th>\n      <td>0</td>\n      <td>0</td>\n      <td>1</td>\n    </tr>\n    <tr>\n      <th>4</th>\n      <td>1</td>\n      <td>0</td>\n      <td>0</td>\n    </tr>\n    <tr>\n      <th>5</th>\n      <td>0</td>\n      <td>0</td>\n      <td>1</td>\n    </tr>\n    <tr>\n      <th>6</th>\n      <td>0</td>\n      <td>0</td>\n      <td>1</td>\n    </tr>\n    <tr>\n      <th>7</th>\n      <td>1</td>\n      <td>0</td>\n      <td>0</td>\n    </tr>\n    <tr>\n      <th>8</th>\n      <td>0</td>\n      <td>1</td>\n      <td>0</td>\n    </tr>\n    <tr>\n      <th>9</th>\n      <td>0</td>\n      <td>0</td>\n      <td>1</td>\n    </tr>\n  </tbody>\n</table>\n</div>"
     },
     "metadata": {}
    },
    {
     "output_type": "display_data",
     "data": {
      "text/plain": "   coffee  cola  tea\n0       0     1    0\n1       0     0    1\n2       1     0    0\n3       0     0    0",
      "text/html": "<div>\n<style scoped>\n    .dataframe tbody tr th:only-of-type {\n        vertical-align: middle;\n    }\n\n    .dataframe tbody tr th {\n        vertical-align: top;\n    }\n\n    .dataframe thead th {\n        text-align: right;\n    }\n</style>\n<table border=\"1\" class=\"dataframe\">\n  <thead>\n    <tr style=\"text-align: right;\">\n      <th></th>\n      <th>coffee</th>\n      <th>cola</th>\n      <th>tea</th>\n    </tr>\n  </thead>\n  <tbody>\n    <tr>\n      <th>0</th>\n      <td>0</td>\n      <td>1</td>\n      <td>0</td>\n    </tr>\n    <tr>\n      <th>1</th>\n      <td>0</td>\n      <td>0</td>\n      <td>1</td>\n    </tr>\n    <tr>\n      <th>2</th>\n      <td>1</td>\n      <td>0</td>\n      <td>0</td>\n    </tr>\n    <tr>\n      <th>3</th>\n      <td>0</td>\n      <td>0</td>\n      <td>0</td>\n    </tr>\n  </tbody>\n</table>\n</div>"
     },
     "metadata": {}
    }
   ],
   "source": [
    "oenc =  OneHotEncoder(sparse=False, dtype=int, handle_unknown='ignore')\n",
    "train_df = oenc.fit(train[['drink']])\n",
    "train_oenc = oenc.transform(train[['drink']])\n",
    "test_oenc = oenc.transform(test[['drink']])\n",
    "\n",
    "display(pd.DataFrame(train_oenc, columns=['coffee', 'cola', 'tea']))\n",
    "display(pd.DataFrame(test_oenc, columns=['coffee', 'cola', 'tea']))"
   ]
  },
  {
   "cell_type": "code",
   "execution_count": 14,
   "metadata": {},
   "outputs": [
    {
     "output_type": "display_data",
     "data": {
      "text/plain": "   coffee  cola  tea\n0       0     1    0\n1       0     0    1\n2       1     0    0\n3       0     0    1\n4       1     0    0\n5       0     0    1\n6       0     0    1\n7       1     0    0\n8       0     1    0\n9       0     0    1",
      "text/html": "<div>\n<style scoped>\n    .dataframe tbody tr th:only-of-type {\n        vertical-align: middle;\n    }\n\n    .dataframe tbody tr th {\n        vertical-align: top;\n    }\n\n    .dataframe thead th {\n        text-align: right;\n    }\n</style>\n<table border=\"1\" class=\"dataframe\">\n  <thead>\n    <tr style=\"text-align: right;\">\n      <th></th>\n      <th>coffee</th>\n      <th>cola</th>\n      <th>tea</th>\n    </tr>\n  </thead>\n  <tbody>\n    <tr>\n      <th>0</th>\n      <td>0</td>\n      <td>1</td>\n      <td>0</td>\n    </tr>\n    <tr>\n      <th>1</th>\n      <td>0</td>\n      <td>0</td>\n      <td>1</td>\n    </tr>\n    <tr>\n      <th>2</th>\n      <td>1</td>\n      <td>0</td>\n      <td>0</td>\n    </tr>\n    <tr>\n      <th>3</th>\n      <td>0</td>\n      <td>0</td>\n      <td>1</td>\n    </tr>\n    <tr>\n      <th>4</th>\n      <td>1</td>\n      <td>0</td>\n      <td>0</td>\n    </tr>\n    <tr>\n      <th>5</th>\n      <td>0</td>\n      <td>0</td>\n      <td>1</td>\n    </tr>\n    <tr>\n      <th>6</th>\n      <td>0</td>\n      <td>0</td>\n      <td>1</td>\n    </tr>\n    <tr>\n      <th>7</th>\n      <td>1</td>\n      <td>0</td>\n      <td>0</td>\n    </tr>\n    <tr>\n      <th>8</th>\n      <td>0</td>\n      <td>1</td>\n      <td>0</td>\n    </tr>\n    <tr>\n      <th>9</th>\n      <td>0</td>\n      <td>0</td>\n      <td>1</td>\n    </tr>\n  </tbody>\n</table>\n</div>"
     },
     "metadata": {}
    },
    {
     "output_type": "display_data",
     "data": {
      "text/plain": "   coffee  cola  tea\n0       0     1    0\n1       0     0    1\n2       1     0    0\n3       0     0    0",
      "text/html": "<div>\n<style scoped>\n    .dataframe tbody tr th:only-of-type {\n        vertical-align: middle;\n    }\n\n    .dataframe tbody tr th {\n        vertical-align: top;\n    }\n\n    .dataframe thead th {\n        text-align: right;\n    }\n</style>\n<table border=\"1\" class=\"dataframe\">\n  <thead>\n    <tr style=\"text-align: right;\">\n      <th></th>\n      <th>coffee</th>\n      <th>cola</th>\n      <th>tea</th>\n    </tr>\n  </thead>\n  <tbody>\n    <tr>\n      <th>0</th>\n      <td>0</td>\n      <td>1</td>\n      <td>0</td>\n    </tr>\n    <tr>\n      <th>1</th>\n      <td>0</td>\n      <td>0</td>\n      <td>1</td>\n    </tr>\n    <tr>\n      <th>2</th>\n      <td>1</td>\n      <td>0</td>\n      <td>0</td>\n    </tr>\n    <tr>\n      <th>3</th>\n      <td>0</td>\n      <td>0</td>\n      <td>0</td>\n    </tr>\n  </tbody>\n</table>\n</div>"
     },
     "metadata": {}
    }
   ],
   "source": [
    "lbnr = LabelBinarizer()\n",
    "lbnr.fit(train['drink'])\n",
    "display(pd.DataFrame(lbnr.transform(train[['drink']]), columns=['coffee', 'cola', 'tea']))\n",
    "display(pd.DataFrame(lbnr.transform(test[['drink']]), columns=['coffee', 'cola', 'tea']))"
   ]
  },
  {
   "cell_type": "code",
   "execution_count": 15,
   "metadata": {},
   "outputs": [
    {
     "output_type": "display_data",
     "data": {
      "text/plain": "   cider  coffee  cola  tea\n0      0       0     1    0\n1      0       0     0    1\n2      0       1     0    0\n3      0       0     0    1\n4      0       1     0    0\n5      0       0     0    1\n6      0       0     0    1\n7      0       1     0    0\n8      0       0     1    0\n9      0       0     0    1",
      "text/html": "<div>\n<style scoped>\n    .dataframe tbody tr th:only-of-type {\n        vertical-align: middle;\n    }\n\n    .dataframe tbody tr th {\n        vertical-align: top;\n    }\n\n    .dataframe thead th {\n        text-align: right;\n    }\n</style>\n<table border=\"1\" class=\"dataframe\">\n  <thead>\n    <tr style=\"text-align: right;\">\n      <th></th>\n      <th>cider</th>\n      <th>coffee</th>\n      <th>cola</th>\n      <th>tea</th>\n    </tr>\n  </thead>\n  <tbody>\n    <tr>\n      <th>0</th>\n      <td>0</td>\n      <td>0</td>\n      <td>1</td>\n      <td>0</td>\n    </tr>\n    <tr>\n      <th>1</th>\n      <td>0</td>\n      <td>0</td>\n      <td>0</td>\n      <td>1</td>\n    </tr>\n    <tr>\n      <th>2</th>\n      <td>0</td>\n      <td>1</td>\n      <td>0</td>\n      <td>0</td>\n    </tr>\n    <tr>\n      <th>3</th>\n      <td>0</td>\n      <td>0</td>\n      <td>0</td>\n      <td>1</td>\n    </tr>\n    <tr>\n      <th>4</th>\n      <td>0</td>\n      <td>1</td>\n      <td>0</td>\n      <td>0</td>\n    </tr>\n    <tr>\n      <th>5</th>\n      <td>0</td>\n      <td>0</td>\n      <td>0</td>\n      <td>1</td>\n    </tr>\n    <tr>\n      <th>6</th>\n      <td>0</td>\n      <td>0</td>\n      <td>0</td>\n      <td>1</td>\n    </tr>\n    <tr>\n      <th>7</th>\n      <td>0</td>\n      <td>1</td>\n      <td>0</td>\n      <td>0</td>\n    </tr>\n    <tr>\n      <th>8</th>\n      <td>0</td>\n      <td>0</td>\n      <td>1</td>\n      <td>0</td>\n    </tr>\n    <tr>\n      <th>9</th>\n      <td>0</td>\n      <td>0</td>\n      <td>0</td>\n      <td>1</td>\n    </tr>\n  </tbody>\n</table>\n</div>"
     },
     "metadata": {}
    },
    {
     "output_type": "display_data",
     "data": {
      "text/plain": "   cider  coffee  cola  tea\n0      0       0     1    0\n1      0       0     0    1\n2      0       1     0    0\n3      1       0     0    0",
      "text/html": "<div>\n<style scoped>\n    .dataframe tbody tr th:only-of-type {\n        vertical-align: middle;\n    }\n\n    .dataframe tbody tr th {\n        vertical-align: top;\n    }\n\n    .dataframe thead th {\n        text-align: right;\n    }\n</style>\n<table border=\"1\" class=\"dataframe\">\n  <thead>\n    <tr style=\"text-align: right;\">\n      <th></th>\n      <th>cider</th>\n      <th>coffee</th>\n      <th>cola</th>\n      <th>tea</th>\n    </tr>\n  </thead>\n  <tbody>\n    <tr>\n      <th>0</th>\n      <td>0</td>\n      <td>0</td>\n      <td>1</td>\n      <td>0</td>\n    </tr>\n    <tr>\n      <th>1</th>\n      <td>0</td>\n      <td>0</td>\n      <td>0</td>\n      <td>1</td>\n    </tr>\n    <tr>\n      <th>2</th>\n      <td>0</td>\n      <td>1</td>\n      <td>0</td>\n      <td>0</td>\n    </tr>\n    <tr>\n      <th>3</th>\n      <td>1</td>\n      <td>0</td>\n      <td>0</td>\n      <td>0</td>\n    </tr>\n  </tbody>\n</table>\n</div>"
     },
     "metadata": {}
    }
   ],
   "source": [
    "# 学習データにないデータをカラムに追加しても意味ないので、普通こんな処理はしない\n",
    "\n",
    "lbnr = LabelBinarizer()\n",
    "lbnr.fit(test['drink'])\n",
    "display(pd.DataFrame(lbnr.transform(train[['drink']]), columns=['cider', 'coffee', 'cola', 'tea']))\n",
    "display(pd.DataFrame(lbnr.transform(test[['drink']]), columns=['cider', 'coffee', 'cola', 'tea']))"
   ]
  },
  {
   "cell_type": "code",
   "execution_count": 16,
   "metadata": {},
   "outputs": [
    {
     "output_type": "error",
     "ename": "ValueError",
     "evalue": "Multioutput target data is not supported with label binarization",
     "traceback": [
      "\u001b[1;31m---------------------------------------------------------------------------\u001b[0m",
      "\u001b[1;31mValueError\u001b[0m                                Traceback (most recent call last)",
      "\u001b[1;32m<ipython-input-16-26265adf5e5f>\u001b[0m in \u001b[0;36m<module>\u001b[1;34m\u001b[0m\n\u001b[1;32m----> 1\u001b[1;33m \u001b[0mpd\u001b[0m\u001b[1;33m.\u001b[0m\u001b[0mDataFrame\u001b[0m\u001b[1;33m(\u001b[0m\u001b[0mlbnr\u001b[0m\u001b[1;33m.\u001b[0m\u001b[0mfit_transform\u001b[0m\u001b[1;33m(\u001b[0m\u001b[0mtrain\u001b[0m\u001b[1;33m[\u001b[0m\u001b[1;33m[\u001b[0m\u001b[1;34m'drink'\u001b[0m\u001b[1;33m,\u001b[0m \u001b[1;34m'size'\u001b[0m\u001b[1;33m]\u001b[0m\u001b[1;33m]\u001b[0m\u001b[1;33m)\u001b[0m\u001b[1;33m,\u001b[0m \u001b[0mcolumns\u001b[0m\u001b[1;33m=\u001b[0m\u001b[1;33m[\u001b[0m\u001b[1;34m'coffee'\u001b[0m\u001b[1;33m,\u001b[0m \u001b[1;34m'cola'\u001b[0m\u001b[1;33m,\u001b[0m \u001b[1;34m'tea'\u001b[0m\u001b[1;33m,\u001b[0m \u001b[1;34m'L'\u001b[0m\u001b[1;33m,\u001b[0m \u001b[1;34m'M'\u001b[0m\u001b[1;33m,\u001b[0m \u001b[1;34m'S'\u001b[0m\u001b[1;33m]\u001b[0m\u001b[1;33m)\u001b[0m\u001b[1;33m\u001b[0m\u001b[1;33m\u001b[0m\u001b[0m\n\u001b[0m",
      "\u001b[1;32m~\\Anaconda3\\lib\\site-packages\\sklearn\\preprocessing\\_label.py\u001b[0m in \u001b[0;36mfit_transform\u001b[1;34m(self, y)\u001b[0m\n\u001b[0;32m    458\u001b[0m             \u001b[0mShape\u001b[0m \u001b[0mwill\u001b[0m \u001b[0mbe\u001b[0m \u001b[1;33m[\u001b[0m\u001b[0mn_samples\u001b[0m\u001b[1;33m,\u001b[0m \u001b[1;36m1\u001b[0m\u001b[1;33m]\u001b[0m \u001b[1;32mfor\u001b[0m \u001b[0mbinary\u001b[0m \u001b[0mproblems\u001b[0m\u001b[1;33m.\u001b[0m\u001b[1;33m\u001b[0m\u001b[1;33m\u001b[0m\u001b[0m\n\u001b[0;32m    459\u001b[0m         \"\"\"\n\u001b[1;32m--> 460\u001b[1;33m         \u001b[1;32mreturn\u001b[0m \u001b[0mself\u001b[0m\u001b[1;33m.\u001b[0m\u001b[0mfit\u001b[0m\u001b[1;33m(\u001b[0m\u001b[0my\u001b[0m\u001b[1;33m)\u001b[0m\u001b[1;33m.\u001b[0m\u001b[0mtransform\u001b[0m\u001b[1;33m(\u001b[0m\u001b[0my\u001b[0m\u001b[1;33m)\u001b[0m\u001b[1;33m\u001b[0m\u001b[1;33m\u001b[0m\u001b[0m\n\u001b[0m\u001b[0;32m    461\u001b[0m \u001b[1;33m\u001b[0m\u001b[0m\n\u001b[0;32m    462\u001b[0m     \u001b[1;32mdef\u001b[0m \u001b[0mtransform\u001b[0m\u001b[1;33m(\u001b[0m\u001b[0mself\u001b[0m\u001b[1;33m,\u001b[0m \u001b[0my\u001b[0m\u001b[1;33m)\u001b[0m\u001b[1;33m:\u001b[0m\u001b[1;33m\u001b[0m\u001b[1;33m\u001b[0m\u001b[0m\n",
      "\u001b[1;32m~\\Anaconda3\\lib\\site-packages\\sklearn\\preprocessing\\_label.py\u001b[0m in \u001b[0;36mfit\u001b[1;34m(self, y)\u001b[0m\n\u001b[0;32m    429\u001b[0m         \u001b[0mself\u001b[0m\u001b[1;33m.\u001b[0m\u001b[0my_type_\u001b[0m \u001b[1;33m=\u001b[0m \u001b[0mtype_of_target\u001b[0m\u001b[1;33m(\u001b[0m\u001b[0my\u001b[0m\u001b[1;33m)\u001b[0m\u001b[1;33m\u001b[0m\u001b[1;33m\u001b[0m\u001b[0m\n\u001b[0;32m    430\u001b[0m         \u001b[1;32mif\u001b[0m \u001b[1;34m'multioutput'\u001b[0m \u001b[1;32min\u001b[0m \u001b[0mself\u001b[0m\u001b[1;33m.\u001b[0m\u001b[0my_type_\u001b[0m\u001b[1;33m:\u001b[0m\u001b[1;33m\u001b[0m\u001b[1;33m\u001b[0m\u001b[0m\n\u001b[1;32m--> 431\u001b[1;33m             raise ValueError(\"Multioutput target data is not supported with \"\n\u001b[0m\u001b[0;32m    432\u001b[0m                              \"label binarization\")\n\u001b[0;32m    433\u001b[0m         \u001b[1;32mif\u001b[0m \u001b[0m_num_samples\u001b[0m\u001b[1;33m(\u001b[0m\u001b[0my\u001b[0m\u001b[1;33m)\u001b[0m \u001b[1;33m==\u001b[0m \u001b[1;36m0\u001b[0m\u001b[1;33m:\u001b[0m\u001b[1;33m\u001b[0m\u001b[1;33m\u001b[0m\u001b[0m\n",
      "\u001b[1;31mValueError\u001b[0m: Multioutput target data is not supported with label binarization"
     ]
    }
   ],
   "source": [
    "# エラーが出る\n",
    "pd.DataFrame(lbnr.fit_transform(train[['drink', 'size']]), columns=['coffee', 'cola', 'tea', 'L', 'M', 'S'])"
   ]
  },
  {
   "cell_type": "code",
   "execution_count": 15,
   "metadata": {},
   "outputs": [
    {
     "output_type": "execute_result",
     "data": {
      "text/plain": [
       "   coffee  cola  tea  L  M  S\n",
       "0       0     1    0  0  0  1\n",
       "1       0     0    1  0  1  0\n",
       "2       1     0    0  1  0  0\n",
       "3       0     0    1  0  0  1\n",
       "4       1     0    0  1  0  0\n",
       "5       0     0    1  1  0  0\n",
       "6       0     0    1  0  1  0\n",
       "7       1     0    0  1  0  0\n",
       "8       0     1    0  0  0  1\n",
       "9       0     0    1  1  0  0"
      ],
      "text/html": "<div>\n<style scoped>\n    .dataframe tbody tr th:only-of-type {\n        vertical-align: middle;\n    }\n\n    .dataframe tbody tr th {\n        vertical-align: top;\n    }\n\n    .dataframe thead th {\n        text-align: right;\n    }\n</style>\n<table border=\"1\" class=\"dataframe\">\n  <thead>\n    <tr style=\"text-align: right;\">\n      <th></th>\n      <th>coffee</th>\n      <th>cola</th>\n      <th>tea</th>\n      <th>L</th>\n      <th>M</th>\n      <th>S</th>\n    </tr>\n  </thead>\n  <tbody>\n    <tr>\n      <th>0</th>\n      <td>0</td>\n      <td>1</td>\n      <td>0</td>\n      <td>0</td>\n      <td>0</td>\n      <td>1</td>\n    </tr>\n    <tr>\n      <th>1</th>\n      <td>0</td>\n      <td>0</td>\n      <td>1</td>\n      <td>0</td>\n      <td>1</td>\n      <td>0</td>\n    </tr>\n    <tr>\n      <th>2</th>\n      <td>1</td>\n      <td>0</td>\n      <td>0</td>\n      <td>1</td>\n      <td>0</td>\n      <td>0</td>\n    </tr>\n    <tr>\n      <th>3</th>\n      <td>0</td>\n      <td>0</td>\n      <td>1</td>\n      <td>0</td>\n      <td>0</td>\n      <td>1</td>\n    </tr>\n    <tr>\n      <th>4</th>\n      <td>1</td>\n      <td>0</td>\n      <td>0</td>\n      <td>1</td>\n      <td>0</td>\n      <td>0</td>\n    </tr>\n    <tr>\n      <th>5</th>\n      <td>0</td>\n      <td>0</td>\n      <td>1</td>\n      <td>1</td>\n      <td>0</td>\n      <td>0</td>\n    </tr>\n    <tr>\n      <th>6</th>\n      <td>0</td>\n      <td>0</td>\n      <td>1</td>\n      <td>0</td>\n      <td>1</td>\n      <td>0</td>\n    </tr>\n    <tr>\n      <th>7</th>\n      <td>1</td>\n      <td>0</td>\n      <td>0</td>\n      <td>1</td>\n      <td>0</td>\n      <td>0</td>\n    </tr>\n    <tr>\n      <th>8</th>\n      <td>0</td>\n      <td>1</td>\n      <td>0</td>\n      <td>0</td>\n      <td>0</td>\n      <td>1</td>\n    </tr>\n    <tr>\n      <th>9</th>\n      <td>0</td>\n      <td>0</td>\n      <td>1</td>\n      <td>1</td>\n      <td>0</td>\n      <td>0</td>\n    </tr>\n  </tbody>\n</table>\n</div>"
     },
     "metadata": {},
     "execution_count": 15
    }
   ],
   "source": [
    "pd.DataFrame(oenc.fit_transform(train[['drink', 'size']]), columns=['coffee', 'cola', 'tea', 'L', 'M', 'S'])"
   ]
  },
  {
   "source": [
    "## factorize"
   ],
   "cell_type": "markdown",
   "metadata": {}
  },
  {
   "cell_type": "code",
   "execution_count": 16,
   "metadata": {},
   "outputs": [
    {
     "output_type": "execute_result",
     "data": {
      "text/plain": [
       "  user  price size   drink  ft_drink\n",
       "0  Aさん    100    S    cola         0\n",
       "1  Bさん    150    M     tea         1\n",
       "2  Cさん    200    L  coffee         2\n",
       "3  Dさん    100    S     tea         1\n",
       "4  Eさん    200    L  coffee         2\n",
       "5  Fさん    200    L     tea         1\n",
       "6  Gさん    150    M     tea         1\n",
       "7  Hさん    200    L  coffee         2\n",
       "8  Iさん    100    S    cola         0\n",
       "9  Jさん    200    L     tea         1"
      ],
      "text/html": "<div>\n<style scoped>\n    .dataframe tbody tr th:only-of-type {\n        vertical-align: middle;\n    }\n\n    .dataframe tbody tr th {\n        vertical-align: top;\n    }\n\n    .dataframe thead th {\n        text-align: right;\n    }\n</style>\n<table border=\"1\" class=\"dataframe\">\n  <thead>\n    <tr style=\"text-align: right;\">\n      <th></th>\n      <th>user</th>\n      <th>price</th>\n      <th>size</th>\n      <th>drink</th>\n      <th>ft_drink</th>\n    </tr>\n  </thead>\n  <tbody>\n    <tr>\n      <th>0</th>\n      <td>Aさん</td>\n      <td>100</td>\n      <td>S</td>\n      <td>cola</td>\n      <td>0</td>\n    </tr>\n    <tr>\n      <th>1</th>\n      <td>Bさん</td>\n      <td>150</td>\n      <td>M</td>\n      <td>tea</td>\n      <td>1</td>\n    </tr>\n    <tr>\n      <th>2</th>\n      <td>Cさん</td>\n      <td>200</td>\n      <td>L</td>\n      <td>coffee</td>\n      <td>2</td>\n    </tr>\n    <tr>\n      <th>3</th>\n      <td>Dさん</td>\n      <td>100</td>\n      <td>S</td>\n      <td>tea</td>\n      <td>1</td>\n    </tr>\n    <tr>\n      <th>4</th>\n      <td>Eさん</td>\n      <td>200</td>\n      <td>L</td>\n      <td>coffee</td>\n      <td>2</td>\n    </tr>\n    <tr>\n      <th>5</th>\n      <td>Fさん</td>\n      <td>200</td>\n      <td>L</td>\n      <td>tea</td>\n      <td>1</td>\n    </tr>\n    <tr>\n      <th>6</th>\n      <td>Gさん</td>\n      <td>150</td>\n      <td>M</td>\n      <td>tea</td>\n      <td>1</td>\n    </tr>\n    <tr>\n      <th>7</th>\n      <td>Hさん</td>\n      <td>200</td>\n      <td>L</td>\n      <td>coffee</td>\n      <td>2</td>\n    </tr>\n    <tr>\n      <th>8</th>\n      <td>Iさん</td>\n      <td>100</td>\n      <td>S</td>\n      <td>cola</td>\n      <td>0</td>\n    </tr>\n    <tr>\n      <th>9</th>\n      <td>Jさん</td>\n      <td>200</td>\n      <td>L</td>\n      <td>tea</td>\n      <td>1</td>\n    </tr>\n  </tbody>\n</table>\n</div>"
     },
     "metadata": {},
     "execution_count": 16
    }
   ],
   "source": [
    "ft_array, ft_index = pd.factorize(df['drink']) # tupple型で返却される\n",
    "df_ft = pd.DataFrame(ft_array, columns=['ft_drink'])\n",
    "df_factrize = pd.concat([df, df_ft], axis=1) # 元のデータフレームと連結\n",
    "df_factrize"
   ]
  },
  {
   "cell_type": "code",
   "execution_count": 17,
   "metadata": {},
   "outputs": [
    {
     "output_type": "stream",
     "name": "stdout",
     "text": [
      "(array([0, 1, 2, 1, 2, 1, 1, 2, 0, 1], dtype=int64), Index(['cola', 'tea', 'coffee'], dtype='object'))\n[0 1 2 1 2 1 1 2 0 1]\nIndex(['cola', 'tea', 'coffee'], dtype='object')\n"
     ]
    }
   ],
   "source": [
    "ft_tuple = pd.factorize(df['drink'])\n",
    "print(ft_tuple)\n",
    "print(ft_tuple[0])\n",
    "print(ft_tuple[1])"
   ]
  },
  {
   "source": [
    "ft_array, ft_index = pd.factorize(df['drink'])\n",
    "print(ft_array)\n",
    "print((ft_index))"
   ],
   "cell_type": "code",
   "metadata": {},
   "execution_count": 18,
   "outputs": [
    {
     "output_type": "stream",
     "name": "stdout",
     "text": [
      "[0 1 2 1 2 1 1 2 0 1]\nIndex(['cola', 'tea', 'coffee'], dtype='object')\n"
     ]
    }
   ]
  },
  {
   "cell_type": "code",
   "execution_count": 19,
   "metadata": {},
   "outputs": [
    {
     "output_type": "execute_result",
     "data": {
      "text/plain": [
       "   ft_drink\n",
       "0         0\n",
       "1         1\n",
       "2         2\n",
       "3         1\n",
       "4         2\n",
       "5         1\n",
       "6         1\n",
       "7         2\n",
       "8         0\n",
       "9         1"
      ],
      "text/html": "<div>\n<style scoped>\n    .dataframe tbody tr th:only-of-type {\n        vertical-align: middle;\n    }\n\n    .dataframe tbody tr th {\n        vertical-align: top;\n    }\n\n    .dataframe thead th {\n        text-align: right;\n    }\n</style>\n<table border=\"1\" class=\"dataframe\">\n  <thead>\n    <tr style=\"text-align: right;\">\n      <th></th>\n      <th>ft_drink</th>\n    </tr>\n  </thead>\n  <tbody>\n    <tr>\n      <th>0</th>\n      <td>0</td>\n    </tr>\n    <tr>\n      <th>1</th>\n      <td>1</td>\n    </tr>\n    <tr>\n      <th>2</th>\n      <td>2</td>\n    </tr>\n    <tr>\n      <th>3</th>\n      <td>1</td>\n    </tr>\n    <tr>\n      <th>4</th>\n      <td>2</td>\n    </tr>\n    <tr>\n      <th>5</th>\n      <td>1</td>\n    </tr>\n    <tr>\n      <th>6</th>\n      <td>1</td>\n    </tr>\n    <tr>\n      <th>7</th>\n      <td>2</td>\n    </tr>\n    <tr>\n      <th>8</th>\n      <td>0</td>\n    </tr>\n    <tr>\n      <th>9</th>\n      <td>1</td>\n    </tr>\n  </tbody>\n</table>\n</div>"
     },
     "metadata": {},
     "execution_count": 19
    }
   ],
   "source": [
    "df_ft = pd.DataFrame(ft_array, columns=['ft_drink'])\n",
    "df_ft"
   ]
  },
  {
   "cell_type": "code",
   "execution_count": 20,
   "metadata": {},
   "outputs": [
    {
     "output_type": "execute_result",
     "data": {
      "text/plain": [
       "  user  price size   drink  ft_drink\n",
       "0  Aさん    100    S    cola         0\n",
       "1  Bさん    150    M     tea         1\n",
       "2  Cさん    200    L  coffee         2\n",
       "3  Dさん    100    S     tea         1\n",
       "4  Eさん    200    L  coffee         2\n",
       "5  Fさん    200    L     tea         1\n",
       "6  Gさん    150    M     tea         1\n",
       "7  Hさん    200    L  coffee         2\n",
       "8  Iさん    100    S    cola         0\n",
       "9  Jさん    200    L     tea         1"
      ],
      "text/html": "<div>\n<style scoped>\n    .dataframe tbody tr th:only-of-type {\n        vertical-align: middle;\n    }\n\n    .dataframe tbody tr th {\n        vertical-align: top;\n    }\n\n    .dataframe thead th {\n        text-align: right;\n    }\n</style>\n<table border=\"1\" class=\"dataframe\">\n  <thead>\n    <tr style=\"text-align: right;\">\n      <th></th>\n      <th>user</th>\n      <th>price</th>\n      <th>size</th>\n      <th>drink</th>\n      <th>ft_drink</th>\n    </tr>\n  </thead>\n  <tbody>\n    <tr>\n      <th>0</th>\n      <td>Aさん</td>\n      <td>100</td>\n      <td>S</td>\n      <td>cola</td>\n      <td>0</td>\n    </tr>\n    <tr>\n      <th>1</th>\n      <td>Bさん</td>\n      <td>150</td>\n      <td>M</td>\n      <td>tea</td>\n      <td>1</td>\n    </tr>\n    <tr>\n      <th>2</th>\n      <td>Cさん</td>\n      <td>200</td>\n      <td>L</td>\n      <td>coffee</td>\n      <td>2</td>\n    </tr>\n    <tr>\n      <th>3</th>\n      <td>Dさん</td>\n      <td>100</td>\n      <td>S</td>\n      <td>tea</td>\n      <td>1</td>\n    </tr>\n    <tr>\n      <th>4</th>\n      <td>Eさん</td>\n      <td>200</td>\n      <td>L</td>\n      <td>coffee</td>\n      <td>2</td>\n    </tr>\n    <tr>\n      <th>5</th>\n      <td>Fさん</td>\n      <td>200</td>\n      <td>L</td>\n      <td>tea</td>\n      <td>1</td>\n    </tr>\n    <tr>\n      <th>6</th>\n      <td>Gさん</td>\n      <td>150</td>\n      <td>M</td>\n      <td>tea</td>\n      <td>1</td>\n    </tr>\n    <tr>\n      <th>7</th>\n      <td>Hさん</td>\n      <td>200</td>\n      <td>L</td>\n      <td>coffee</td>\n      <td>2</td>\n    </tr>\n    <tr>\n      <th>8</th>\n      <td>Iさん</td>\n      <td>100</td>\n      <td>S</td>\n      <td>cola</td>\n      <td>0</td>\n    </tr>\n    <tr>\n      <th>9</th>\n      <td>Jさん</td>\n      <td>200</td>\n      <td>L</td>\n      <td>tea</td>\n      <td>1</td>\n    </tr>\n  </tbody>\n</table>\n</div>"
     },
     "metadata": {},
     "execution_count": 20
    }
   ],
   "source": [
    "df_factrize = pd.concat([df, df_ft], axis=1)\n",
    "df_factrize"
   ]
  },
  {
   "source": [
    "## LabelEncoder"
   ],
   "cell_type": "markdown",
   "metadata": {}
  },
  {
   "cell_type": "code",
   "execution_count": 21,
   "metadata": {},
   "outputs": [
    {
     "output_type": "execute_result",
     "data": {
      "text/plain": [
       "  user  price size   drink  le_drink\n",
       "0  Aさん    100    S    cola         1\n",
       "1  Bさん    150    M     tea         2\n",
       "2  Cさん    200    L  coffee         0\n",
       "3  Dさん    100    S     tea         2\n",
       "4  Eさん    200    L  coffee         0\n",
       "5  Fさん    200    L     tea         2\n",
       "6  Gさん    150    M     tea         2\n",
       "7  Hさん    200    L  coffee         0\n",
       "8  Iさん    100    S    cola         1\n",
       "9  Jさん    200    L     tea         2"
      ],
      "text/html": "<div>\n<style scoped>\n    .dataframe tbody tr th:only-of-type {\n        vertical-align: middle;\n    }\n\n    .dataframe tbody tr th {\n        vertical-align: top;\n    }\n\n    .dataframe thead th {\n        text-align: right;\n    }\n</style>\n<table border=\"1\" class=\"dataframe\">\n  <thead>\n    <tr style=\"text-align: right;\">\n      <th></th>\n      <th>user</th>\n      <th>price</th>\n      <th>size</th>\n      <th>drink</th>\n      <th>le_drink</th>\n    </tr>\n  </thead>\n  <tbody>\n    <tr>\n      <th>0</th>\n      <td>Aさん</td>\n      <td>100</td>\n      <td>S</td>\n      <td>cola</td>\n      <td>1</td>\n    </tr>\n    <tr>\n      <th>1</th>\n      <td>Bさん</td>\n      <td>150</td>\n      <td>M</td>\n      <td>tea</td>\n      <td>2</td>\n    </tr>\n    <tr>\n      <th>2</th>\n      <td>Cさん</td>\n      <td>200</td>\n      <td>L</td>\n      <td>coffee</td>\n      <td>0</td>\n    </tr>\n    <tr>\n      <th>3</th>\n      <td>Dさん</td>\n      <td>100</td>\n      <td>S</td>\n      <td>tea</td>\n      <td>2</td>\n    </tr>\n    <tr>\n      <th>4</th>\n      <td>Eさん</td>\n      <td>200</td>\n      <td>L</td>\n      <td>coffee</td>\n      <td>0</td>\n    </tr>\n    <tr>\n      <th>5</th>\n      <td>Fさん</td>\n      <td>200</td>\n      <td>L</td>\n      <td>tea</td>\n      <td>2</td>\n    </tr>\n    <tr>\n      <th>6</th>\n      <td>Gさん</td>\n      <td>150</td>\n      <td>M</td>\n      <td>tea</td>\n      <td>2</td>\n    </tr>\n    <tr>\n      <th>7</th>\n      <td>Hさん</td>\n      <td>200</td>\n      <td>L</td>\n      <td>coffee</td>\n      <td>0</td>\n    </tr>\n    <tr>\n      <th>8</th>\n      <td>Iさん</td>\n      <td>100</td>\n      <td>S</td>\n      <td>cola</td>\n      <td>1</td>\n    </tr>\n    <tr>\n      <th>9</th>\n      <td>Jさん</td>\n      <td>200</td>\n      <td>L</td>\n      <td>tea</td>\n      <td>2</td>\n    </tr>\n  </tbody>\n</table>\n</div>"
     },
     "metadata": {},
     "execution_count": 21
    }
   ],
   "source": [
    "from sklearn.preprocessing import LabelEncoder\n",
    "\n",
    "lenc = LabelEncoder()\n",
    "lenc.fit(df['drink'])\n",
    "lenc_vec = lenc.transform(df['drink'])\n",
    "df_le = pd.DataFrame(lenc_vec, columns=['le_drink'])\n",
    "df_lenc = pd.concat([df, df_le], axis=1) # 元のデータフレームと連結\n",
    "df_lenc"
   ]
  },
  {
   "cell_type": "code",
   "execution_count": 22,
   "metadata": {},
   "outputs": [
    {
     "output_type": "execute_result",
     "data": {
      "text/plain": [
       "array([1, 2, 0, 2, 0, 2, 2, 0, 1, 2])"
      ]
     },
     "metadata": {},
     "execution_count": 22
    }
   ],
   "source": [
    "lenc = LabelEncoder()\n",
    "lenc.fit(df['drink'])\n",
    "lenc_vec = lenc.transform(df['drink'])\n",
    "lenc_vec"
   ]
  },
  {
   "cell_type": "code",
   "execution_count": 23,
   "metadata": {},
   "outputs": [],
   "source": [
    "df_le = pd.DataFrame(lenc_vec, columns=['le_drink'])"
   ]
  },
  {
   "cell_type": "code",
   "execution_count": 24,
   "metadata": {},
   "outputs": [
    {
     "output_type": "execute_result",
     "data": {
      "text/plain": [
       "  user  price size   drink  le_drink\n",
       "0  Aさん    100    S    cola         1\n",
       "1  Bさん    150    M     tea         2\n",
       "2  Cさん    200    L  coffee         0\n",
       "3  Dさん    100    S     tea         2\n",
       "4  Eさん    200    L  coffee         0\n",
       "5  Fさん    200    L     tea         2\n",
       "6  Gさん    150    M     tea         2\n",
       "7  Hさん    200    L  coffee         0\n",
       "8  Iさん    100    S    cola         1\n",
       "9  Jさん    200    L     tea         2"
      ],
      "text/html": "<div>\n<style scoped>\n    .dataframe tbody tr th:only-of-type {\n        vertical-align: middle;\n    }\n\n    .dataframe tbody tr th {\n        vertical-align: top;\n    }\n\n    .dataframe thead th {\n        text-align: right;\n    }\n</style>\n<table border=\"1\" class=\"dataframe\">\n  <thead>\n    <tr style=\"text-align: right;\">\n      <th></th>\n      <th>user</th>\n      <th>price</th>\n      <th>size</th>\n      <th>drink</th>\n      <th>le_drink</th>\n    </tr>\n  </thead>\n  <tbody>\n    <tr>\n      <th>0</th>\n      <td>Aさん</td>\n      <td>100</td>\n      <td>S</td>\n      <td>cola</td>\n      <td>1</td>\n    </tr>\n    <tr>\n      <th>1</th>\n      <td>Bさん</td>\n      <td>150</td>\n      <td>M</td>\n      <td>tea</td>\n      <td>2</td>\n    </tr>\n    <tr>\n      <th>2</th>\n      <td>Cさん</td>\n      <td>200</td>\n      <td>L</td>\n      <td>coffee</td>\n      <td>0</td>\n    </tr>\n    <tr>\n      <th>3</th>\n      <td>Dさん</td>\n      <td>100</td>\n      <td>S</td>\n      <td>tea</td>\n      <td>2</td>\n    </tr>\n    <tr>\n      <th>4</th>\n      <td>Eさん</td>\n      <td>200</td>\n      <td>L</td>\n      <td>coffee</td>\n      <td>0</td>\n    </tr>\n    <tr>\n      <th>5</th>\n      <td>Fさん</td>\n      <td>200</td>\n      <td>L</td>\n      <td>tea</td>\n      <td>2</td>\n    </tr>\n    <tr>\n      <th>6</th>\n      <td>Gさん</td>\n      <td>150</td>\n      <td>M</td>\n      <td>tea</td>\n      <td>2</td>\n    </tr>\n    <tr>\n      <th>7</th>\n      <td>Hさん</td>\n      <td>200</td>\n      <td>L</td>\n      <td>coffee</td>\n      <td>0</td>\n    </tr>\n    <tr>\n      <th>8</th>\n      <td>Iさん</td>\n      <td>100</td>\n      <td>S</td>\n      <td>cola</td>\n      <td>1</td>\n    </tr>\n    <tr>\n      <th>9</th>\n      <td>Jさん</td>\n      <td>200</td>\n      <td>L</td>\n      <td>tea</td>\n      <td>2</td>\n    </tr>\n  </tbody>\n</table>\n</div>"
     },
     "metadata": {},
     "execution_count": 24
    }
   ],
   "source": [
    "df_lenc = pd.concat([df, df_le], axis=1)\n",
    "df_lenc"
   ]
  },
  {
   "source": [
    "## 違い"
   ],
   "cell_type": "markdown",
   "metadata": {}
  },
  {
   "cell_type": "code",
   "execution_count": 25,
   "metadata": {},
   "outputs": [
    {
     "output_type": "display_data",
     "data": {
      "text/plain": "  user  price size   drink  ft_drink\n0  Aさん    100    S    cola         0\n1  Bさん    150    M     tea         1\n2  Cさん    200    L  coffee         2\n3  Dさん    100    S     tea         1\n4  Eさん    200    L  coffee         2\n5  Fさん    200    L     tea         1\n6  Gさん    150    M     tea         1\n7  Hさん    200    L  coffee         2\n8  Iさん    100    S    cola         0\n9  Jさん    200    L     tea         1",
      "text/html": "<div>\n<style scoped>\n    .dataframe tbody tr th:only-of-type {\n        vertical-align: middle;\n    }\n\n    .dataframe tbody tr th {\n        vertical-align: top;\n    }\n\n    .dataframe thead th {\n        text-align: right;\n    }\n</style>\n<table border=\"1\" class=\"dataframe\">\n  <thead>\n    <tr style=\"text-align: right;\">\n      <th></th>\n      <th>user</th>\n      <th>price</th>\n      <th>size</th>\n      <th>drink</th>\n      <th>ft_drink</th>\n    </tr>\n  </thead>\n  <tbody>\n    <tr>\n      <th>0</th>\n      <td>Aさん</td>\n      <td>100</td>\n      <td>S</td>\n      <td>cola</td>\n      <td>0</td>\n    </tr>\n    <tr>\n      <th>1</th>\n      <td>Bさん</td>\n      <td>150</td>\n      <td>M</td>\n      <td>tea</td>\n      <td>1</td>\n    </tr>\n    <tr>\n      <th>2</th>\n      <td>Cさん</td>\n      <td>200</td>\n      <td>L</td>\n      <td>coffee</td>\n      <td>2</td>\n    </tr>\n    <tr>\n      <th>3</th>\n      <td>Dさん</td>\n      <td>100</td>\n      <td>S</td>\n      <td>tea</td>\n      <td>1</td>\n    </tr>\n    <tr>\n      <th>4</th>\n      <td>Eさん</td>\n      <td>200</td>\n      <td>L</td>\n      <td>coffee</td>\n      <td>2</td>\n    </tr>\n    <tr>\n      <th>5</th>\n      <td>Fさん</td>\n      <td>200</td>\n      <td>L</td>\n      <td>tea</td>\n      <td>1</td>\n    </tr>\n    <tr>\n      <th>6</th>\n      <td>Gさん</td>\n      <td>150</td>\n      <td>M</td>\n      <td>tea</td>\n      <td>1</td>\n    </tr>\n    <tr>\n      <th>7</th>\n      <td>Hさん</td>\n      <td>200</td>\n      <td>L</td>\n      <td>coffee</td>\n      <td>2</td>\n    </tr>\n    <tr>\n      <th>8</th>\n      <td>Iさん</td>\n      <td>100</td>\n      <td>S</td>\n      <td>cola</td>\n      <td>0</td>\n    </tr>\n    <tr>\n      <th>9</th>\n      <td>Jさん</td>\n      <td>200</td>\n      <td>L</td>\n      <td>tea</td>\n      <td>1</td>\n    </tr>\n  </tbody>\n</table>\n</div>"
     },
     "metadata": {}
    },
    {
     "output_type": "display_data",
     "data": {
      "text/plain": "  user  price size   drink  ft_drink\n0  Kさん    200    L    cola         0\n1  Lさん    100    S     tea         1\n2  Mさん    150    M  coffee         2\n3  Nさん    150   LL   cider         3",
      "text/html": "<div>\n<style scoped>\n    .dataframe tbody tr th:only-of-type {\n        vertical-align: middle;\n    }\n\n    .dataframe tbody tr th {\n        vertical-align: top;\n    }\n\n    .dataframe thead th {\n        text-align: right;\n    }\n</style>\n<table border=\"1\" class=\"dataframe\">\n  <thead>\n    <tr style=\"text-align: right;\">\n      <th></th>\n      <th>user</th>\n      <th>price</th>\n      <th>size</th>\n      <th>drink</th>\n      <th>ft_drink</th>\n    </tr>\n  </thead>\n  <tbody>\n    <tr>\n      <th>0</th>\n      <td>Kさん</td>\n      <td>200</td>\n      <td>L</td>\n      <td>cola</td>\n      <td>0</td>\n    </tr>\n    <tr>\n      <th>1</th>\n      <td>Lさん</td>\n      <td>100</td>\n      <td>S</td>\n      <td>tea</td>\n      <td>1</td>\n    </tr>\n    <tr>\n      <th>2</th>\n      <td>Mさん</td>\n      <td>150</td>\n      <td>M</td>\n      <td>coffee</td>\n      <td>2</td>\n    </tr>\n    <tr>\n      <th>3</th>\n      <td>Nさん</td>\n      <td>150</td>\n      <td>LL</td>\n      <td>cider</td>\n      <td>3</td>\n    </tr>\n  </tbody>\n</table>\n</div>"
     },
     "metadata": {}
    }
   ],
   "source": [
    "train_ft, idx = pd.factorize(train['drink'])\n",
    "test_ft, idx = pd.factorize(test['drink'])\n",
    "\n",
    "train_df = pd.concat([train, pd.DataFrame(train_ft, columns=['ft_drink'])], axis=1)\n",
    "test_df = pd.concat([test, pd.DataFrame(test_ft, columns=['ft_drink'])], axis=1)\n",
    "\n",
    "display(train_df)\n",
    "display(test_df)"
   ]
  },
  {
   "cell_type": "code",
   "execution_count": 26,
   "metadata": {},
   "outputs": [
    {
     "output_type": "execute_result",
     "data": {
      "text/plain": [
       "   user  price size   drink  ft_drink\n",
       "0   Aさん    100    S    cola         0\n",
       "1   Bさん    150    M     tea         1\n",
       "2   Cさん    200    L  coffee         2\n",
       "3   Dさん    100    S     tea         1\n",
       "4   Eさん    200    L  coffee         2\n",
       "5   Fさん    200    L     tea         1\n",
       "6   Gさん    150    M     tea         1\n",
       "7   Hさん    200    L  coffee         2\n",
       "8   Iさん    100    S    cola         0\n",
       "9   Jさん    200    L     tea         1\n",
       "10  Kさん    200    L    cola         0\n",
       "11  Lさん    100    S     tea         1\n",
       "12  Mさん    150    M  coffee         2\n",
       "13  Nさん    150   LL   cider         3"
      ],
      "text/html": "<div>\n<style scoped>\n    .dataframe tbody tr th:only-of-type {\n        vertical-align: middle;\n    }\n\n    .dataframe tbody tr th {\n        vertical-align: top;\n    }\n\n    .dataframe thead th {\n        text-align: right;\n    }\n</style>\n<table border=\"1\" class=\"dataframe\">\n  <thead>\n    <tr style=\"text-align: right;\">\n      <th></th>\n      <th>user</th>\n      <th>price</th>\n      <th>size</th>\n      <th>drink</th>\n      <th>ft_drink</th>\n    </tr>\n  </thead>\n  <tbody>\n    <tr>\n      <th>0</th>\n      <td>Aさん</td>\n      <td>100</td>\n      <td>S</td>\n      <td>cola</td>\n      <td>0</td>\n    </tr>\n    <tr>\n      <th>1</th>\n      <td>Bさん</td>\n      <td>150</td>\n      <td>M</td>\n      <td>tea</td>\n      <td>1</td>\n    </tr>\n    <tr>\n      <th>2</th>\n      <td>Cさん</td>\n      <td>200</td>\n      <td>L</td>\n      <td>coffee</td>\n      <td>2</td>\n    </tr>\n    <tr>\n      <th>3</th>\n      <td>Dさん</td>\n      <td>100</td>\n      <td>S</td>\n      <td>tea</td>\n      <td>1</td>\n    </tr>\n    <tr>\n      <th>4</th>\n      <td>Eさん</td>\n      <td>200</td>\n      <td>L</td>\n      <td>coffee</td>\n      <td>2</td>\n    </tr>\n    <tr>\n      <th>5</th>\n      <td>Fさん</td>\n      <td>200</td>\n      <td>L</td>\n      <td>tea</td>\n      <td>1</td>\n    </tr>\n    <tr>\n      <th>6</th>\n      <td>Gさん</td>\n      <td>150</td>\n      <td>M</td>\n      <td>tea</td>\n      <td>1</td>\n    </tr>\n    <tr>\n      <th>7</th>\n      <td>Hさん</td>\n      <td>200</td>\n      <td>L</td>\n      <td>coffee</td>\n      <td>2</td>\n    </tr>\n    <tr>\n      <th>8</th>\n      <td>Iさん</td>\n      <td>100</td>\n      <td>S</td>\n      <td>cola</td>\n      <td>0</td>\n    </tr>\n    <tr>\n      <th>9</th>\n      <td>Jさん</td>\n      <td>200</td>\n      <td>L</td>\n      <td>tea</td>\n      <td>1</td>\n    </tr>\n    <tr>\n      <th>10</th>\n      <td>Kさん</td>\n      <td>200</td>\n      <td>L</td>\n      <td>cola</td>\n      <td>0</td>\n    </tr>\n    <tr>\n      <th>11</th>\n      <td>Lさん</td>\n      <td>100</td>\n      <td>S</td>\n      <td>tea</td>\n      <td>1</td>\n    </tr>\n    <tr>\n      <th>12</th>\n      <td>Mさん</td>\n      <td>150</td>\n      <td>M</td>\n      <td>coffee</td>\n      <td>2</td>\n    </tr>\n    <tr>\n      <th>13</th>\n      <td>Nさん</td>\n      <td>150</td>\n      <td>LL</td>\n      <td>cider</td>\n      <td>3</td>\n    </tr>\n  </tbody>\n</table>\n</div>"
     },
     "metadata": {},
     "execution_count": 26
    }
   ],
   "source": [
    "all_df = pd.concat([train, test], axis=0).reset_index(drop=True)\n",
    "all_ft, idx = pd.factorize(all_df['drink'])\n",
    "train_test_df = pd.concat([all_df, pd.DataFrame(all_ft, columns=['ft_drink'])], axis=1)\n",
    "train_test_df"
   ]
  },
  {
   "cell_type": "code",
   "execution_count": 27,
   "metadata": {},
   "outputs": [
    {
     "output_type": "display_data",
     "data": {
      "text/plain": "  user  price size   drink  le_drink\n0  Aさん    100    S    cola         2\n1  Bさん    150    M     tea         3\n2  Cさん    200    L  coffee         1\n3  Dさん    100    S     tea         3\n4  Eさん    200    L  coffee         1\n5  Fさん    200    L     tea         3\n6  Gさん    150    M     tea         3\n7  Hさん    200    L  coffee         1\n8  Iさん    100    S    cola         2\n9  Jさん    200    L     tea         3",
      "text/html": "<div>\n<style scoped>\n    .dataframe tbody tr th:only-of-type {\n        vertical-align: middle;\n    }\n\n    .dataframe tbody tr th {\n        vertical-align: top;\n    }\n\n    .dataframe thead th {\n        text-align: right;\n    }\n</style>\n<table border=\"1\" class=\"dataframe\">\n  <thead>\n    <tr style=\"text-align: right;\">\n      <th></th>\n      <th>user</th>\n      <th>price</th>\n      <th>size</th>\n      <th>drink</th>\n      <th>le_drink</th>\n    </tr>\n  </thead>\n  <tbody>\n    <tr>\n      <th>0</th>\n      <td>Aさん</td>\n      <td>100</td>\n      <td>S</td>\n      <td>cola</td>\n      <td>2</td>\n    </tr>\n    <tr>\n      <th>1</th>\n      <td>Bさん</td>\n      <td>150</td>\n      <td>M</td>\n      <td>tea</td>\n      <td>3</td>\n    </tr>\n    <tr>\n      <th>2</th>\n      <td>Cさん</td>\n      <td>200</td>\n      <td>L</td>\n      <td>coffee</td>\n      <td>1</td>\n    </tr>\n    <tr>\n      <th>3</th>\n      <td>Dさん</td>\n      <td>100</td>\n      <td>S</td>\n      <td>tea</td>\n      <td>3</td>\n    </tr>\n    <tr>\n      <th>4</th>\n      <td>Eさん</td>\n      <td>200</td>\n      <td>L</td>\n      <td>coffee</td>\n      <td>1</td>\n    </tr>\n    <tr>\n      <th>5</th>\n      <td>Fさん</td>\n      <td>200</td>\n      <td>L</td>\n      <td>tea</td>\n      <td>3</td>\n    </tr>\n    <tr>\n      <th>6</th>\n      <td>Gさん</td>\n      <td>150</td>\n      <td>M</td>\n      <td>tea</td>\n      <td>3</td>\n    </tr>\n    <tr>\n      <th>7</th>\n      <td>Hさん</td>\n      <td>200</td>\n      <td>L</td>\n      <td>coffee</td>\n      <td>1</td>\n    </tr>\n    <tr>\n      <th>8</th>\n      <td>Iさん</td>\n      <td>100</td>\n      <td>S</td>\n      <td>cola</td>\n      <td>2</td>\n    </tr>\n    <tr>\n      <th>9</th>\n      <td>Jさん</td>\n      <td>200</td>\n      <td>L</td>\n      <td>tea</td>\n      <td>3</td>\n    </tr>\n  </tbody>\n</table>\n</div>"
     },
     "metadata": {}
    },
    {
     "output_type": "display_data",
     "data": {
      "text/plain": "  user  price size   drink  le_drink\n0  Kさん    200    L    cola         2\n1  Lさん    100    S     tea         3\n2  Mさん    150    M  coffee         1\n3  Nさん    150   LL   cider         0",
      "text/html": "<div>\n<style scoped>\n    .dataframe tbody tr th:only-of-type {\n        vertical-align: middle;\n    }\n\n    .dataframe tbody tr th {\n        vertical-align: top;\n    }\n\n    .dataframe thead th {\n        text-align: right;\n    }\n</style>\n<table border=\"1\" class=\"dataframe\">\n  <thead>\n    <tr style=\"text-align: right;\">\n      <th></th>\n      <th>user</th>\n      <th>price</th>\n      <th>size</th>\n      <th>drink</th>\n      <th>le_drink</th>\n    </tr>\n  </thead>\n  <tbody>\n    <tr>\n      <th>0</th>\n      <td>Kさん</td>\n      <td>200</td>\n      <td>L</td>\n      <td>cola</td>\n      <td>2</td>\n    </tr>\n    <tr>\n      <th>1</th>\n      <td>Lさん</td>\n      <td>100</td>\n      <td>S</td>\n      <td>tea</td>\n      <td>3</td>\n    </tr>\n    <tr>\n      <th>2</th>\n      <td>Mさん</td>\n      <td>150</td>\n      <td>M</td>\n      <td>coffee</td>\n      <td>1</td>\n    </tr>\n    <tr>\n      <th>3</th>\n      <td>Nさん</td>\n      <td>150</td>\n      <td>LL</td>\n      <td>cider</td>\n      <td>0</td>\n    </tr>\n  </tbody>\n</table>\n</div>"
     },
     "metadata": {}
    }
   ],
   "source": [
    "lenc = LabelEncoder()\n",
    "train_df = lenc.fit(['cola', 'tea', 'coffee', 'cider'])\n",
    "train_lenc = lenc.transform(train[['drink']])\n",
    "test_lenc = lenc.transform(test[['drink']])\n",
    "\n",
    "train_df = pd.concat([train, pd.DataFrame(train_lenc, columns=['le_drink'])], axis=1)\n",
    "test_df = pd.concat([test, pd.DataFrame(test_lenc, columns=['le_drink'])], axis=1)\n",
    "\n",
    "display(train_df)\n",
    "display(test_df)"
   ]
  },
  {
   "source": [
    "# 順序尺度"
   ],
   "cell_type": "markdown",
   "metadata": {}
  },
  {
   "cell_type": "code",
   "execution_count": 28,
   "metadata": {},
   "outputs": [
    {
     "output_type": "execute_result",
     "data": {
      "text/plain": [
       "  user  price size   drink  ordinal_size\n",
       "0  Aさん    100    S    cola             0\n",
       "1  Bさん    150    M     tea             1\n",
       "2  Cさん    200    L  coffee             2\n",
       "3  Dさん    100    S     tea             0\n",
       "4  Eさん    200    L  coffee             2\n",
       "5  Fさん    200    L     tea             2\n",
       "6  Gさん    150    M     tea             1\n",
       "7  Hさん    200    L  coffee             2\n",
       "8  Iさん    100    S    cola             0\n",
       "9  Jさん    200    L     tea             2"
      ],
      "text/html": "<div>\n<style scoped>\n    .dataframe tbody tr th:only-of-type {\n        vertical-align: middle;\n    }\n\n    .dataframe tbody tr th {\n        vertical-align: top;\n    }\n\n    .dataframe thead th {\n        text-align: right;\n    }\n</style>\n<table border=\"1\" class=\"dataframe\">\n  <thead>\n    <tr style=\"text-align: right;\">\n      <th></th>\n      <th>user</th>\n      <th>price</th>\n      <th>size</th>\n      <th>drink</th>\n      <th>ordinal_size</th>\n    </tr>\n  </thead>\n  <tbody>\n    <tr>\n      <th>0</th>\n      <td>Aさん</td>\n      <td>100</td>\n      <td>S</td>\n      <td>cola</td>\n      <td>0</td>\n    </tr>\n    <tr>\n      <th>1</th>\n      <td>Bさん</td>\n      <td>150</td>\n      <td>M</td>\n      <td>tea</td>\n      <td>1</td>\n    </tr>\n    <tr>\n      <th>2</th>\n      <td>Cさん</td>\n      <td>200</td>\n      <td>L</td>\n      <td>coffee</td>\n      <td>2</td>\n    </tr>\n    <tr>\n      <th>3</th>\n      <td>Dさん</td>\n      <td>100</td>\n      <td>S</td>\n      <td>tea</td>\n      <td>0</td>\n    </tr>\n    <tr>\n      <th>4</th>\n      <td>Eさん</td>\n      <td>200</td>\n      <td>L</td>\n      <td>coffee</td>\n      <td>2</td>\n    </tr>\n    <tr>\n      <th>5</th>\n      <td>Fさん</td>\n      <td>200</td>\n      <td>L</td>\n      <td>tea</td>\n      <td>2</td>\n    </tr>\n    <tr>\n      <th>6</th>\n      <td>Gさん</td>\n      <td>150</td>\n      <td>M</td>\n      <td>tea</td>\n      <td>1</td>\n    </tr>\n    <tr>\n      <th>7</th>\n      <td>Hさん</td>\n      <td>200</td>\n      <td>L</td>\n      <td>coffee</td>\n      <td>2</td>\n    </tr>\n    <tr>\n      <th>8</th>\n      <td>Iさん</td>\n      <td>100</td>\n      <td>S</td>\n      <td>cola</td>\n      <td>0</td>\n    </tr>\n    <tr>\n      <th>9</th>\n      <td>Jさん</td>\n      <td>200</td>\n      <td>L</td>\n      <td>tea</td>\n      <td>2</td>\n    </tr>\n  </tbody>\n</table>\n</div>"
     },
     "metadata": {},
     "execution_count": 28
    }
   ],
   "source": [
    "df['ordinal_size'] = df['size'].apply(lambda x: ['S', 'M', 'L', 'LL'].index(x))\n",
    "df"
   ]
  },
  {
   "cell_type": "code",
   "execution_count": 17,
   "metadata": {},
   "outputs": [
    {
     "output_type": "execute_result",
     "data": {
      "text/plain": [
       "  user  price size   drink  ordinal_size\n",
       "0  Aさん    100    S    cola             0\n",
       "1  Bさん    150    M     tea             1\n",
       "2  Cさん    200    L  coffee             2\n",
       "3  Dさん    100    S     tea             0\n",
       "4  Eさん    200    L  coffee             2\n",
       "5  Fさん    200    L     tea             2\n",
       "6  Gさん    150    M     tea             1\n",
       "7  Hさん    200    L  coffee             2\n",
       "8  Iさん    100    S    cola             0\n",
       "9  Jさん    200    L     tea             2"
      ],
      "text/html": "<div>\n<style scoped>\n    .dataframe tbody tr th:only-of-type {\n        vertical-align: middle;\n    }\n\n    .dataframe tbody tr th {\n        vertical-align: top;\n    }\n\n    .dataframe thead th {\n        text-align: right;\n    }\n</style>\n<table border=\"1\" class=\"dataframe\">\n  <thead>\n    <tr style=\"text-align: right;\">\n      <th></th>\n      <th>user</th>\n      <th>price</th>\n      <th>size</th>\n      <th>drink</th>\n      <th>ordinal_size</th>\n    </tr>\n  </thead>\n  <tbody>\n    <tr>\n      <th>0</th>\n      <td>Aさん</td>\n      <td>100</td>\n      <td>S</td>\n      <td>cola</td>\n      <td>0</td>\n    </tr>\n    <tr>\n      <th>1</th>\n      <td>Bさん</td>\n      <td>150</td>\n      <td>M</td>\n      <td>tea</td>\n      <td>1</td>\n    </tr>\n    <tr>\n      <th>2</th>\n      <td>Cさん</td>\n      <td>200</td>\n      <td>L</td>\n      <td>coffee</td>\n      <td>2</td>\n    </tr>\n    <tr>\n      <th>3</th>\n      <td>Dさん</td>\n      <td>100</td>\n      <td>S</td>\n      <td>tea</td>\n      <td>0</td>\n    </tr>\n    <tr>\n      <th>4</th>\n      <td>Eさん</td>\n      <td>200</td>\n      <td>L</td>\n      <td>coffee</td>\n      <td>2</td>\n    </tr>\n    <tr>\n      <th>5</th>\n      <td>Fさん</td>\n      <td>200</td>\n      <td>L</td>\n      <td>tea</td>\n      <td>2</td>\n    </tr>\n    <tr>\n      <th>6</th>\n      <td>Gさん</td>\n      <td>150</td>\n      <td>M</td>\n      <td>tea</td>\n      <td>1</td>\n    </tr>\n    <tr>\n      <th>7</th>\n      <td>Hさん</td>\n      <td>200</td>\n      <td>L</td>\n      <td>coffee</td>\n      <td>2</td>\n    </tr>\n    <tr>\n      <th>8</th>\n      <td>Iさん</td>\n      <td>100</td>\n      <td>S</td>\n      <td>cola</td>\n      <td>0</td>\n    </tr>\n    <tr>\n      <th>9</th>\n      <td>Jさん</td>\n      <td>200</td>\n      <td>L</td>\n      <td>tea</td>\n      <td>2</td>\n    </tr>\n  </tbody>\n</table>\n</div>"
     },
     "metadata": {},
     "execution_count": 17
    }
   ],
   "source": [
    "# df['ordinal_size'] = df['size'].map(lambda x: ['S', 'M', 'L', 'LL'].index(x))\n",
    "df['ordinal_size'] = df['size'].map({'S': 0, 'M': 1, 'L': 2, 'LL':3})\n",
    "df"
   ]
  },
  {
   "cell_type": "code",
   "execution_count": 30,
   "metadata": {},
   "outputs": [
    {
     "output_type": "display_data",
     "data": {
      "text/plain": "  user  price size   drink  ordinal_size\n0  Aさん    100    S    cola             0\n1  Bさん    150    M     tea             1\n2  Cさん    200    L  coffee             2\n3  Dさん    100    S     tea             0\n4  Eさん    200    L  coffee             2\n5  Fさん    200    L     tea             2\n6  Gさん    150    M     tea             1\n7  Hさん    200    L  coffee             2\n8  Iさん    100    S    cola             0\n9  Jさん    200    L     tea             2",
      "text/html": "<div>\n<style scoped>\n    .dataframe tbody tr th:only-of-type {\n        vertical-align: middle;\n    }\n\n    .dataframe tbody tr th {\n        vertical-align: top;\n    }\n\n    .dataframe thead th {\n        text-align: right;\n    }\n</style>\n<table border=\"1\" class=\"dataframe\">\n  <thead>\n    <tr style=\"text-align: right;\">\n      <th></th>\n      <th>user</th>\n      <th>price</th>\n      <th>size</th>\n      <th>drink</th>\n      <th>ordinal_size</th>\n    </tr>\n  </thead>\n  <tbody>\n    <tr>\n      <th>0</th>\n      <td>Aさん</td>\n      <td>100</td>\n      <td>S</td>\n      <td>cola</td>\n      <td>0</td>\n    </tr>\n    <tr>\n      <th>1</th>\n      <td>Bさん</td>\n      <td>150</td>\n      <td>M</td>\n      <td>tea</td>\n      <td>1</td>\n    </tr>\n    <tr>\n      <th>2</th>\n      <td>Cさん</td>\n      <td>200</td>\n      <td>L</td>\n      <td>coffee</td>\n      <td>2</td>\n    </tr>\n    <tr>\n      <th>3</th>\n      <td>Dさん</td>\n      <td>100</td>\n      <td>S</td>\n      <td>tea</td>\n      <td>0</td>\n    </tr>\n    <tr>\n      <th>4</th>\n      <td>Eさん</td>\n      <td>200</td>\n      <td>L</td>\n      <td>coffee</td>\n      <td>2</td>\n    </tr>\n    <tr>\n      <th>5</th>\n      <td>Fさん</td>\n      <td>200</td>\n      <td>L</td>\n      <td>tea</td>\n      <td>2</td>\n    </tr>\n    <tr>\n      <th>6</th>\n      <td>Gさん</td>\n      <td>150</td>\n      <td>M</td>\n      <td>tea</td>\n      <td>1</td>\n    </tr>\n    <tr>\n      <th>7</th>\n      <td>Hさん</td>\n      <td>200</td>\n      <td>L</td>\n      <td>coffee</td>\n      <td>2</td>\n    </tr>\n    <tr>\n      <th>8</th>\n      <td>Iさん</td>\n      <td>100</td>\n      <td>S</td>\n      <td>cola</td>\n      <td>0</td>\n    </tr>\n    <tr>\n      <th>9</th>\n      <td>Jさん</td>\n      <td>200</td>\n      <td>L</td>\n      <td>tea</td>\n      <td>2</td>\n    </tr>\n  </tbody>\n</table>\n</div>"
     },
     "metadata": {}
    },
    {
     "output_type": "display_data",
     "data": {
      "text/plain": "  user  price size   drink  ordinal_size\n0  Kさん    200    L    cola             2\n1  Lさん    100    S     tea             0\n2  Mさん    150    M  coffee             1\n3  Nさん    150   LL   cider             3",
      "text/html": "<div>\n<style scoped>\n    .dataframe tbody tr th:only-of-type {\n        vertical-align: middle;\n    }\n\n    .dataframe tbody tr th {\n        vertical-align: top;\n    }\n\n    .dataframe thead th {\n        text-align: right;\n    }\n</style>\n<table border=\"1\" class=\"dataframe\">\n  <thead>\n    <tr style=\"text-align: right;\">\n      <th></th>\n      <th>user</th>\n      <th>price</th>\n      <th>size</th>\n      <th>drink</th>\n      <th>ordinal_size</th>\n    </tr>\n  </thead>\n  <tbody>\n    <tr>\n      <th>0</th>\n      <td>Kさん</td>\n      <td>200</td>\n      <td>L</td>\n      <td>cola</td>\n      <td>2</td>\n    </tr>\n    <tr>\n      <th>1</th>\n      <td>Lさん</td>\n      <td>100</td>\n      <td>S</td>\n      <td>tea</td>\n      <td>0</td>\n    </tr>\n    <tr>\n      <th>2</th>\n      <td>Mさん</td>\n      <td>150</td>\n      <td>M</td>\n      <td>coffee</td>\n      <td>1</td>\n    </tr>\n    <tr>\n      <th>3</th>\n      <td>Nさん</td>\n      <td>150</td>\n      <td>LL</td>\n      <td>cider</td>\n      <td>3</td>\n    </tr>\n  </tbody>\n</table>\n</div>"
     },
     "metadata": {}
    }
   ],
   "source": [
    "unique_size_list = list(all_df['size'].unique())\n",
    "\n",
    "train['ordinal_size'] = train['size'].apply(lambda x: unique_size_list.index(x))\n",
    "test['ordinal_size'] = test['size'].apply(lambda x: unique_size_list.index(x))\n",
    "\n",
    "display(train)\n",
    "display(test)"
   ]
  },
  {
   "cell_type": "code",
   "execution_count": 31,
   "metadata": {},
   "outputs": [
    {
     "output_type": "execute_result",
     "data": {
      "text/plain": [
       "  user  price size   drink  ordinal_size  ft_size\n",
       "0  Aさん    100    S    cola             0        0\n",
       "1  Bさん    150    M     tea             1        1\n",
       "2  Cさん    200    L  coffee             2        2\n",
       "3  Dさん    100    S     tea             0        0\n",
       "4  Eさん    200    L  coffee             2        2\n",
       "5  Fさん    200    L     tea             2        2\n",
       "6  Gさん    150    M     tea             1        1\n",
       "7  Hさん    200    L  coffee             2        2\n",
       "8  Iさん    100    S    cola             0        0\n",
       "9  Jさん    200    L     tea             2        2"
      ],
      "text/html": "<div>\n<style scoped>\n    .dataframe tbody tr th:only-of-type {\n        vertical-align: middle;\n    }\n\n    .dataframe tbody tr th {\n        vertical-align: top;\n    }\n\n    .dataframe thead th {\n        text-align: right;\n    }\n</style>\n<table border=\"1\" class=\"dataframe\">\n  <thead>\n    <tr style=\"text-align: right;\">\n      <th></th>\n      <th>user</th>\n      <th>price</th>\n      <th>size</th>\n      <th>drink</th>\n      <th>ordinal_size</th>\n      <th>ft_size</th>\n    </tr>\n  </thead>\n  <tbody>\n    <tr>\n      <th>0</th>\n      <td>Aさん</td>\n      <td>100</td>\n      <td>S</td>\n      <td>cola</td>\n      <td>0</td>\n      <td>0</td>\n    </tr>\n    <tr>\n      <th>1</th>\n      <td>Bさん</td>\n      <td>150</td>\n      <td>M</td>\n      <td>tea</td>\n      <td>1</td>\n      <td>1</td>\n    </tr>\n    <tr>\n      <th>2</th>\n      <td>Cさん</td>\n      <td>200</td>\n      <td>L</td>\n      <td>coffee</td>\n      <td>2</td>\n      <td>2</td>\n    </tr>\n    <tr>\n      <th>3</th>\n      <td>Dさん</td>\n      <td>100</td>\n      <td>S</td>\n      <td>tea</td>\n      <td>0</td>\n      <td>0</td>\n    </tr>\n    <tr>\n      <th>4</th>\n      <td>Eさん</td>\n      <td>200</td>\n      <td>L</td>\n      <td>coffee</td>\n      <td>2</td>\n      <td>2</td>\n    </tr>\n    <tr>\n      <th>5</th>\n      <td>Fさん</td>\n      <td>200</td>\n      <td>L</td>\n      <td>tea</td>\n      <td>2</td>\n      <td>2</td>\n    </tr>\n    <tr>\n      <th>6</th>\n      <td>Gさん</td>\n      <td>150</td>\n      <td>M</td>\n      <td>tea</td>\n      <td>1</td>\n      <td>1</td>\n    </tr>\n    <tr>\n      <th>7</th>\n      <td>Hさん</td>\n      <td>200</td>\n      <td>L</td>\n      <td>coffee</td>\n      <td>2</td>\n      <td>2</td>\n    </tr>\n    <tr>\n      <th>8</th>\n      <td>Iさん</td>\n      <td>100</td>\n      <td>S</td>\n      <td>cola</td>\n      <td>0</td>\n      <td>0</td>\n    </tr>\n    <tr>\n      <th>9</th>\n      <td>Jさん</td>\n      <td>200</td>\n      <td>L</td>\n      <td>tea</td>\n      <td>2</td>\n      <td>2</td>\n    </tr>\n  </tbody>\n</table>\n</div>"
     },
     "metadata": {},
     "execution_count": 31
    }
   ],
   "source": [
    "ft_array, ft_index = pd.factorize(df['size']) # tupple型で返却される\n",
    "df_ft = pd.DataFrame(ft_array, columns=['ft_size'])\n",
    "df_factrize = pd.concat([df, df_ft], axis=1) # 元のデータフレームと連結\n",
    "df_factrize"
   ]
  },
  {
   "cell_type": "code",
   "execution_count": 32,
   "metadata": {},
   "outputs": [
    {
     "output_type": "execute_result",
     "data": {
      "text/plain": [
       "  user  price size   drink  ordinal_size  le_size\n",
       "0  Aさん    100    S    cola             0        2\n",
       "1  Bさん    150    M     tea             1        1\n",
       "2  Cさん    200    L  coffee             2        0\n",
       "3  Dさん    100    S     tea             0        2\n",
       "4  Eさん    200    L  coffee             2        0\n",
       "5  Fさん    200    L     tea             2        0\n",
       "6  Gさん    150    M     tea             1        1\n",
       "7  Hさん    200    L  coffee             2        0\n",
       "8  Iさん    100    S    cola             0        2\n",
       "9  Jさん    200    L     tea             2        0"
      ],
      "text/html": "<div>\n<style scoped>\n    .dataframe tbody tr th:only-of-type {\n        vertical-align: middle;\n    }\n\n    .dataframe tbody tr th {\n        vertical-align: top;\n    }\n\n    .dataframe thead th {\n        text-align: right;\n    }\n</style>\n<table border=\"1\" class=\"dataframe\">\n  <thead>\n    <tr style=\"text-align: right;\">\n      <th></th>\n      <th>user</th>\n      <th>price</th>\n      <th>size</th>\n      <th>drink</th>\n      <th>ordinal_size</th>\n      <th>le_size</th>\n    </tr>\n  </thead>\n  <tbody>\n    <tr>\n      <th>0</th>\n      <td>Aさん</td>\n      <td>100</td>\n      <td>S</td>\n      <td>cola</td>\n      <td>0</td>\n      <td>2</td>\n    </tr>\n    <tr>\n      <th>1</th>\n      <td>Bさん</td>\n      <td>150</td>\n      <td>M</td>\n      <td>tea</td>\n      <td>1</td>\n      <td>1</td>\n    </tr>\n    <tr>\n      <th>2</th>\n      <td>Cさん</td>\n      <td>200</td>\n      <td>L</td>\n      <td>coffee</td>\n      <td>2</td>\n      <td>0</td>\n    </tr>\n    <tr>\n      <th>3</th>\n      <td>Dさん</td>\n      <td>100</td>\n      <td>S</td>\n      <td>tea</td>\n      <td>0</td>\n      <td>2</td>\n    </tr>\n    <tr>\n      <th>4</th>\n      <td>Eさん</td>\n      <td>200</td>\n      <td>L</td>\n      <td>coffee</td>\n      <td>2</td>\n      <td>0</td>\n    </tr>\n    <tr>\n      <th>5</th>\n      <td>Fさん</td>\n      <td>200</td>\n      <td>L</td>\n      <td>tea</td>\n      <td>2</td>\n      <td>0</td>\n    </tr>\n    <tr>\n      <th>6</th>\n      <td>Gさん</td>\n      <td>150</td>\n      <td>M</td>\n      <td>tea</td>\n      <td>1</td>\n      <td>1</td>\n    </tr>\n    <tr>\n      <th>7</th>\n      <td>Hさん</td>\n      <td>200</td>\n      <td>L</td>\n      <td>coffee</td>\n      <td>2</td>\n      <td>0</td>\n    </tr>\n    <tr>\n      <th>8</th>\n      <td>Iさん</td>\n      <td>100</td>\n      <td>S</td>\n      <td>cola</td>\n      <td>0</td>\n      <td>2</td>\n    </tr>\n    <tr>\n      <th>9</th>\n      <td>Jさん</td>\n      <td>200</td>\n      <td>L</td>\n      <td>tea</td>\n      <td>2</td>\n      <td>0</td>\n    </tr>\n  </tbody>\n</table>\n</div>"
     },
     "metadata": {},
     "execution_count": 32
    }
   ],
   "source": [
    "lenc = LabelEncoder()\n",
    "lenc.fit(df['size'])\n",
    "lenc_vec = lenc.transform(df['size'])\n",
    "df_le = pd.DataFrame(lenc_vec, columns=['le_size'])\n",
    "df_lenc = pd.concat([df, df_le], axis=1) # 元のデータフレームと連結\n",
    "df_lenc"
   ]
  }
 ]
}